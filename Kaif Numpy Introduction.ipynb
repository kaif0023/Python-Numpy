{
 "cells": [
  {
   "cell_type": "markdown",
   "id": "4e785e6c",
   "metadata": {},
   "source": [
    "# Numpy"
   ]
  },
  {
   "cell_type": "markdown",
   "id": "6227448c",
   "metadata": {},
   "source": [
    "## 1-it is a python library/package for mathematical computing and processing multi-dimensional array\n",
    "## 2-it is written in c\n",
    "## 3-it overcomes the problem of running slower algorithms on python by using multidimensional array\n",
    "## 4-executes elementwise operation\n",
    "## 5-performs linear alegbra ,fourier transform or any complex operation on it\n",
    "## 6-core data structure of numpy is nd-array\n"
   ]
  },
  {
   "cell_type": "markdown",
   "id": "e3af4a2d",
   "metadata": {},
   "source": [
    "### 1- normal python coding for dividing two parallel data"
   ]
  },
  {
   "cell_type": "code",
   "execution_count": 2,
   "id": "a7dbef4d",
   "metadata": {},
   "outputs": [
    {
     "data": {
      "text/plain": [
       "[(400, 40), (300, 50), (100, 70), (200, 60)]"
      ]
     },
     "execution_count": 2,
     "metadata": {},
     "output_type": "execute_result"
    }
   ],
   "source": [
    "d=[400,300,100,200]\n",
    "sp=[40,50,70,60]\n",
    "m=list(zip(d,sp))\n",
    "m"
   ]
  },
  {
   "cell_type": "code",
   "execution_count": 6,
   "id": "a931a0c1",
   "metadata": {},
   "outputs": [
    {
     "data": {
      "text/plain": [
       "[[400, 40], [300, 50], [100, 70], [200, 60]]"
      ]
     },
     "execution_count": 6,
     "metadata": {},
     "output_type": "execute_result"
    }
   ],
   "source": [
    "main=[]\n",
    "for i in m:\n",
    "    l1=[]\n",
    "    for j in i:\n",
    "        l1.append(j)\n",
    "    main.append(l1)\n",
    "main\n",
    "        \n",
    "    "
   ]
  },
  {
   "cell_type": "code",
   "execution_count": 9,
   "id": "ad1bd34c",
   "metadata": {},
   "outputs": [
    {
     "name": "stdout",
     "output_type": "stream",
     "text": [
      "[10.0, 6.0, 1.4285714285714286, 3.3333333333333335]\n"
     ]
    }
   ],
   "source": [
    "time=[]\n",
    "for k in main:\n",
    "    time.append(k[0]/k[1])\n",
    "print(time)\n",
    "    "
   ]
  },
  {
   "cell_type": "markdown",
   "id": "7a586f04",
   "metadata": {},
   "source": [
    "### 2 - when we use numpy"
   ]
  },
  {
   "cell_type": "code",
   "execution_count": 1,
   "id": "e87b7dbf",
   "metadata": {},
   "outputs": [
    {
     "data": {
      "text/plain": [
       "array([10.        ,  6.        ,  1.42857143,  3.33333333])"
      ]
     },
     "execution_count": 1,
     "metadata": {},
     "output_type": "execute_result"
    }
   ],
   "source": [
    "import numpy as np\n",
    "d1=np.array([400,300,100,200])\n",
    "sp1=np.array([40,50,70,60])\n",
    "d1/sp1"
   ]
  },
  {
   "cell_type": "markdown",
   "id": "b0550b50",
   "metadata": {},
   "source": [
    "## Array"
   ]
  },
  {
   "cell_type": "markdown",
   "id": "76578d57",
   "metadata": {},
   "source": [
    "## 1 = stores homogenous data\n",
    "## 2 = only in numbers\n",
    "## 3 = fast and efficient\n",
    "## 4 = operates only on homogenous data (only numbers)"
   ]
  },
  {
   "cell_type": "markdown",
   "id": "b0d5036c",
   "metadata": {},
   "source": [
    "# Creating array"
   ]
  },
  {
   "cell_type": "code",
   "execution_count": 14,
   "id": "e738dae7",
   "metadata": {},
   "outputs": [
    {
     "data": {
      "text/plain": [
       "array([1, 2, 3, 4, 5, 6, 7, 8])"
      ]
     },
     "execution_count": 14,
     "metadata": {},
     "output_type": "execute_result"
    }
   ],
   "source": [
    "a = np.array([1,2,3,4,5,6,7,8])\n",
    "a"
   ]
  },
  {
   "cell_type": "code",
   "execution_count": 15,
   "id": "457d3dbf",
   "metadata": {},
   "outputs": [
    {
     "data": {
      "text/plain": [
       "numpy.ndarray"
      ]
     },
     "execution_count": 15,
     "metadata": {},
     "output_type": "execute_result"
    }
   ],
   "source": [
    "type(a)"
   ]
  },
  {
   "cell_type": "code",
   "execution_count": 16,
   "id": "70bd0539",
   "metadata": {},
   "outputs": [
    {
     "data": {
      "text/plain": [
       "dtype('int32')"
      ]
     },
     "execution_count": 16,
     "metadata": {},
     "output_type": "execute_result"
    }
   ],
   "source": [
    "a.dtype"
   ]
  },
  {
   "cell_type": "code",
   "execution_count": 17,
   "id": "13169ef0",
   "metadata": {},
   "outputs": [
    {
     "data": {
      "text/plain": [
       "array([[ 1,  3,  7,  9],\n",
       "       [45, 89, 56, 11]])"
      ]
     },
     "execution_count": 17,
     "metadata": {},
     "output_type": "execute_result"
    }
   ],
   "source": [
    "# 2d array creation\n",
    "a2 = np.array([[1,3,7,9],[45,89,56,11]])\n",
    "a2"
   ]
  },
  {
   "cell_type": "code",
   "execution_count": 22,
   "id": "1a9aee20",
   "metadata": {},
   "outputs": [
    {
     "data": {
      "text/plain": [
       "array([[[ 1,  2,  3,  4],\n",
       "        [ 2,  4,  6,  8]],\n",
       "\n",
       "       [[20, 45, 56, 90],\n",
       "        [45, 78, 90, 45]]])"
      ]
     },
     "execution_count": 22,
     "metadata": {},
     "output_type": "execute_result"
    }
   ],
   "source": [
    "# 3d array creation\n",
    "s = np.array([[[1,2,3,4],[2,4,6,8]],[[20,45,56,90],[45,78,90,45]]])\n",
    "s"
   ]
  },
  {
   "cell_type": "code",
   "execution_count": 19,
   "id": "9480f27f",
   "metadata": {},
   "outputs": [
    {
     "data": {
      "text/plain": [
       "array([1, 3, 5, 7, 9])"
      ]
     },
     "execution_count": 19,
     "metadata": {},
     "output_type": "execute_result"
    }
   ],
   "source": [
    "# creating array from tuple\n",
    "s = np.array((1,3,5,7,9))\n",
    "s"
   ]
  },
  {
   "cell_type": "code",
   "execution_count": 20,
   "id": "19b6937b",
   "metadata": {},
   "outputs": [
    {
     "data": {
      "text/plain": [
       "array('hi hello why', dtype='<U12')"
      ]
     },
     "execution_count": 20,
     "metadata": {},
     "output_type": "execute_result"
    }
   ],
   "source": [
    "# creating array from string\n",
    "s = np.array(\"hi hello why\")\n",
    "s\n",
    "#it is a 0th.darray"
   ]
  },
  {
   "cell_type": "markdown",
   "id": "11db9314",
   "metadata": {},
   "source": [
    "# Important properties \\ attributes of Array:\n",
    "## 1. ndim\n",
    "## 2. shape\n",
    "## 3. size\n",
    "## 4. astype"
   ]
  },
  {
   "cell_type": "code",
   "execution_count": 23,
   "id": "329ad248",
   "metadata": {},
   "outputs": [
    {
     "name": "stdout",
     "output_type": "stream",
     "text": [
      "[20 30 90]\n"
     ]
    }
   ],
   "source": [
    "# single dimensional array \n",
    "a = np.array([20,30,90])\n",
    "print(a)"
   ]
  },
  {
   "cell_type": "markdown",
   "id": "0dbf3c13",
   "metadata": {},
   "source": [
    "## property 1 of array - ndim"
   ]
  },
  {
   "cell_type": "code",
   "execution_count": 24,
   "id": "4073b56a",
   "metadata": {},
   "outputs": [
    {
     "data": {
      "text/plain": [
       "1"
      ]
     },
     "execution_count": 24,
     "metadata": {},
     "output_type": "execute_result"
    }
   ],
   "source": [
    "a.ndim"
   ]
  },
  {
   "cell_type": "code",
   "execution_count": 27,
   "id": "2ae23730",
   "metadata": {},
   "outputs": [
    {
     "name": "stdout",
     "output_type": "stream",
     "text": [
      "[[ 1  2  3]\n",
      " [23 45 60]]\n",
      "\n",
      "2\n"
     ]
    }
   ],
   "source": [
    "# 2d array\n",
    "c = np.array([[1,2,3],[23,45,60]])\n",
    "print(c)\n",
    "print(\"\")\n",
    "print(c.ndim)"
   ]
  },
  {
   "cell_type": "code",
   "execution_count": 28,
   "id": "27a124eb",
   "metadata": {},
   "outputs": [
    {
     "name": "stdout",
     "output_type": "stream",
     "text": [
      "0\n",
      "0\n",
      "1\n",
      "2\n",
      "3\n",
      "4\n",
      "2\n",
      "5\n"
     ]
    }
   ],
   "source": [
    "a = np.array(42)\n",
    "b = np.array([1, 2, 3, 4, 5]) # in  single dimension we can not judge the rows and columns\n",
    "c = np.array([[1, 2, 3,45], [4, 5, 6,7],[3,5,6,7]])\n",
    "d = np.array([[[1, 2, 3], [4, 5, 6]], [[1, 2, 3], [4, 5, 6]]])\n",
    "e=np.array([[[[1, 2, 3], [4, 5, 6]]]])\n",
    "f=np.array([[2,3,4,5]])\n",
    "g=np.array([[[[[20,30]]]]])\n",
    "print(a.ndim)\n",
    "print(np.ndim(a))\n",
    "print(b.ndim)\n",
    "print(c.ndim)\n",
    "print(d.ndim)\n",
    "print(e.ndim)\n",
    "print(f.ndim)\n",
    "print(g.ndim)\n"
   ]
  },
  {
   "cell_type": "code",
   "execution_count": 2,
   "id": "55f114ba",
   "metadata": {},
   "outputs": [
    {
     "data": {
      "text/plain": [
       "array([[[[[1, 2, 3, 4]]]]])"
      ]
     },
     "execution_count": 2,
     "metadata": {},
     "output_type": "execute_result"
    }
   ],
   "source": [
    "import numpy as np\n",
    "a1=np.array([1,2,3,4],ndmin=5)\n",
    "a1"
   ]
  },
  {
   "cell_type": "code",
   "execution_count": 30,
   "id": "05759577",
   "metadata": {},
   "outputs": [
    {
     "data": {
      "text/plain": [
       "array([[[[[[[ 1,  2,  3],\n",
       "            [23, 45, 60]]]]]]])"
      ]
     },
     "execution_count": 30,
     "metadata": {},
     "output_type": "execute_result"
    }
   ],
   "source": [
    "c = np.array([[1,2,3],[23,45,60]],ndmin=7)\n",
    "c"
   ]
  },
  {
   "cell_type": "markdown",
   "id": "d1b5394d",
   "metadata": {},
   "source": [
    "## property of array 2 - shape"
   ]
  },
  {
   "cell_type": "code",
   "execution_count": 32,
   "id": "5b610e5e",
   "metadata": {},
   "outputs": [
    {
     "name": "stdout",
     "output_type": "stream",
     "text": [
      "(4,)\n"
     ]
    }
   ],
   "source": [
    "a1=np.array([1,2,3,4]) ## in 1d shape we cannot judge rows and columns\n",
    "print(a1.shape)"
   ]
  },
  {
   "cell_type": "code",
   "execution_count": 4,
   "id": "5cd51e1b",
   "metadata": {},
   "outputs": [
    {
     "name": "stdout",
     "output_type": "stream",
     "text": [
      "(2, 3)\n",
      "[[1 2 3]\n",
      " [4 5 6]]\n"
     ]
    }
   ],
   "source": [
    "# determining of shape in 2d array\n",
    "c = np.array([[1, 2, 3], [4, 5, 6]])\n",
    "print(c.shape)\n",
    "print(c)"
   ]
  },
  {
   "cell_type": "code",
   "execution_count": 3,
   "id": "3ed9c9af",
   "metadata": {},
   "outputs": [
    {
     "name": "stdout",
     "output_type": "stream",
     "text": [
      "(3, 4)\n"
     ]
    },
    {
     "data": {
      "text/plain": [
       "array([[ 1,  2,  3, 45],\n",
       "       [ 4,  5,  6,  7],\n",
       "       [ 3,  5,  6,  7]])"
      ]
     },
     "execution_count": 3,
     "metadata": {},
     "output_type": "execute_result"
    }
   ],
   "source": [
    "c = np.array([[1, 2, 3,45], [4, 5, 6,7],[3,5,6,7]])\n",
    "print(c.shape)\n",
    "c"
   ]
  },
  {
   "cell_type": "code",
   "execution_count": 35,
   "id": "6c32ced2",
   "metadata": {},
   "outputs": [
    {
     "data": {
      "text/plain": [
       "(1, 3)"
      ]
     },
     "execution_count": 35,
     "metadata": {},
     "output_type": "execute_result"
    }
   ],
   "source": [
    "c = np.array([[1, 2, 3]])\n",
    "c.shape"
   ]
  },
  {
   "cell_type": "code",
   "execution_count": 4,
   "id": "4404d496",
   "metadata": {},
   "outputs": [
    {
     "name": "stdout",
     "output_type": "stream",
     "text": [
      "(2, 2, 3)\n"
     ]
    },
    {
     "data": {
      "text/plain": [
       "array([[[1, 2, 3],\n",
       "        [4, 5, 6]],\n",
       "\n",
       "       [[1, 2, 3],\n",
       "        [4, 5, 6]]])"
      ]
     },
     "execution_count": 4,
     "metadata": {},
     "output_type": "execute_result"
    }
   ],
   "source": [
    "d = np.array([[[1, 2, 3], [4, 5, 6]], [[1, 2, 3], [4, 5, 6]]])\n",
    "print(d.shape)\n",
    "d"
   ]
  },
  {
   "cell_type": "code",
   "execution_count": 38,
   "id": "78c24438",
   "metadata": {},
   "outputs": [
    {
     "name": "stdout",
     "output_type": "stream",
     "text": [
      "(1, 1, 1, 1, 1, 3, 3)\n",
      "[[[[[[[ 2  3  4]\n",
      "      [45 78 90]\n",
      "      [50 90 89]]]]]]]\n"
     ]
    }
   ],
   "source": [
    "k=np.array([[[[[[[2,3,4],[45,78,90],[50,90,89]]]]]]])\n",
    "print(k.shape)\n",
    "print(k)\n"
   ]
  },
  {
   "cell_type": "code",
   "execution_count": 39,
   "id": "29ef40c1",
   "metadata": {},
   "outputs": [
    {
     "data": {
      "text/plain": [
       "(1, 1, 1, 1, 1, 1, 1, 4)"
      ]
     },
     "execution_count": 39,
     "metadata": {},
     "output_type": "execute_result"
    }
   ],
   "source": [
    "a=np.array([[[[[[[[\"pizza\",\"sweet corn\",\"coffee\",\"lemonade\"]]]]]]]])\n",
    "a.shape\n"
   ]
  },
  {
   "cell_type": "code",
   "execution_count": 2,
   "id": "9a7ea822",
   "metadata": {},
   "outputs": [
    {
     "data": {
      "text/plain": [
       "(2, 4, 2)"
      ]
     },
     "execution_count": 2,
     "metadata": {},
     "output_type": "execute_result"
    }
   ],
   "source": [
    "import numpy as np\n",
    "k = np.array([[[2,3],[2,3],[2,3],[2,3]],[[2,3],[2,3],[2,3],[2,3]]])\n",
    "k.shape"
   ]
  },
  {
   "cell_type": "code",
   "execution_count": 9,
   "id": "93460426",
   "metadata": {},
   "outputs": [
    {
     "name": "stdout",
     "output_type": "stream",
     "text": [
      "[[[[2 3 4]\n",
      "   [3 5 6]\n",
      "   [6 7 8]]]]\n",
      "(1, 1, 3, 3)\n"
     ]
    }
   ],
   "source": [
    "#create a shape odf array 1,1,3,3\n",
    "j = np.array([[[[2,3,4],[3,5,6],[6,7,8]]]])\n",
    "print(j)\n",
    "print(j.shape)"
   ]
  },
  {
   "cell_type": "code",
   "execution_count": 12,
   "id": "70a15f2c",
   "metadata": {},
   "outputs": [
    {
     "name": "stdout",
     "output_type": "stream",
     "text": [
      "(1, 1, 3, 3, 3)\n",
      "[[[[[2 3 4]\n",
      "    [2 3 4]\n",
      "    [2 3 4]]\n",
      "\n",
      "   [[2 3 4]\n",
      "    [2 3 4]\n",
      "    [2 3 4]]\n",
      "\n",
      "   [[2 3 4]\n",
      "    [2 3 4]\n",
      "    [2 3 4]]]]]\n",
      "[[[[[2 3 4]\n",
      "    [2 3 4]\n",
      "    [2 3 4]]\n",
      "\n",
      "   [[2 3 4]\n",
      "    [2 3 4]\n",
      "    [2 3 4]]\n",
      "\n",
      "   [[2 3 4]\n",
      "    [2 3 4]\n",
      "    [2 3 4]]]]]\n"
     ]
    }
   ],
   "source": [
    "#1,1,3,3,3\n",
    "k = np.array([[[[[2,3,4],[2,3,4],[2,3,4]],[[2,3,4],[2,3,4],[2,3,4]],[[2,3,4],[2,3,4],[2,3,4]]]]])\n",
    "print(k.shape)\n",
    "print(k)\n",
    "print(np.sort(k))"
   ]
  },
  {
   "cell_type": "markdown",
   "id": "c1633805",
   "metadata": {},
   "source": [
    "## rank is the same as number of dimension"
   ]
  },
  {
   "cell_type": "code",
   "execution_count": 14,
   "id": "0f9d142e",
   "metadata": {},
   "outputs": [
    {
     "name": "stdout",
     "output_type": "stream",
     "text": [
      "4\n",
      "4\n"
     ]
    }
   ],
   "source": [
    "d = np.array([20,40,70,90])\n",
    "print(np.size(d))\n",
    "print(np.size(d,axis=0))"
   ]
  },
  {
   "cell_type": "code",
   "execution_count": 18,
   "id": "088fe81b",
   "metadata": {},
   "outputs": [
    {
     "name": "stdout",
     "output_type": "stream",
     "text": [
      "8\n",
      "2\n",
      "4\n"
     ]
    }
   ],
   "source": [
    "a = np.array([[1,2,3,4],[4,5,6,7]])\n",
    "print(np.size(a))\n",
    "print(np.size(a,0))\n",
    "print(np.size(a,1))"
   ]
  },
  {
   "cell_type": "code",
   "execution_count": 24,
   "id": "bcb746a5",
   "metadata": {},
   "outputs": [
    {
     "name": "stdout",
     "output_type": "stream",
     "text": [
      "16\n",
      "2\n",
      "2\n",
      "4\n"
     ]
    }
   ],
   "source": [
    "# 3d Array\n",
    "a = np.array([[[1,2,3,4],[4,5,6,7]],[[1,2,3,4],[2,5,3,4]]])\n",
    "print(np.size(a))\n",
    "print(np.size(a,0))\n",
    "print(np.size(a,1))\n",
    "print(np.size(a,2))\n"
   ]
  },
  {
   "cell_type": "markdown",
   "id": "338cd04e",
   "metadata": {},
   "source": [
    "## item size it specifies how much memory does one element is alloted - always shows in bits "
   ]
  },
  {
   "cell_type": "code",
   "execution_count": 26,
   "id": "0eccfce5",
   "metadata": {},
   "outputs": [
    {
     "name": "stdout",
     "output_type": "stream",
     "text": [
      "64\n"
     ]
    }
   ],
   "source": [
    "# item size it always shows in bits\n",
    "print(a.size*a.itemsize)"
   ]
  },
  {
   "cell_type": "markdown",
   "id": "42e212d3",
   "metadata": {},
   "source": [
    "### dtype always in default is float\n"
   ]
  },
  {
   "cell_type": "code",
   "execution_count": 8,
   "id": "a50219e4",
   "metadata": {},
   "outputs": [
    {
     "name": "stdout",
     "output_type": "stream",
     "text": [
      "[[1. 1. 1.]\n",
      " [1. 1. 1.]]\n",
      "float64\n"
     ]
    }
   ],
   "source": [
    "a=np.ones((2,3))\n",
    "print(a)\n",
    "print(a.dtype)"
   ]
  },
  {
   "cell_type": "code",
   "execution_count": 9,
   "id": "db1b4e6d",
   "metadata": {},
   "outputs": [
    {
     "data": {
      "text/plain": [
       "array([[[0.],\n",
       "        [0.],\n",
       "        [0.]],\n",
       "\n",
       "       [[0.],\n",
       "        [0.],\n",
       "        [0.]]])"
      ]
     },
     "execution_count": 9,
     "metadata": {},
     "output_type": "execute_result"
    }
   ],
   "source": [
    "# create an array of shape 2,3,1\n",
    "a=np.zeros((2,3,1))\n",
    "a"
   ]
  },
  {
   "cell_type": "markdown",
   "id": "d6d5822e",
   "metadata": {},
   "source": [
    "## astype - conversion of one datatype to another"
   ]
  },
  {
   "cell_type": "code",
   "execution_count": 35,
   "id": "2b159ed3",
   "metadata": {},
   "outputs": [
    {
     "name": "stdout",
     "output_type": "stream",
     "text": [
      "[[[1]\n",
      "  [1]\n",
      "  [1]]\n",
      "\n",
      " [[1]\n",
      "  [1]\n",
      "  [1]]]\n",
      "int32\n"
     ]
    }
   ],
   "source": [
    "a1=a.astype(\"int\")\n",
    "print(a1)\n",
    "print(a1.dtype)"
   ]
  },
  {
   "cell_type": "markdown",
   "id": "eaf98ee9",
   "metadata": {},
   "source": [
    "## arrays are faster then list datatype (coding is short in arrays)\n",
    "## arrays can perform element wise operation while list cannot\n",
    "## arrays take less memory"
   ]
  },
  {
   "cell_type": "code",
   "execution_count": 36,
   "id": "ac35d6b8",
   "metadata": {},
   "outputs": [
    {
     "name": "stdout",
     "output_type": "stream",
     "text": [
      "856\n",
      "4\n",
      "list takes : 85600 bytes\n",
      "array takes :  400 bytes\n"
     ]
    }
   ],
   "source": [
    "\n",
    "import sys\n",
    "l=list(range(100))\n",
    "a=np.arange(100)\n",
    "print(sys.getsizeof(l))\n",
    "print(a.itemsize)\n",
    "print(\"list takes :\",sys.getsizeof(l)*len(l),\"bytes\")  ##ys.getsizeof(l) : size of each element in the list\n",
    "print(\"array takes : \",a.itemsize*a.size,\"bytes\" ) ## itemsize: size of each element in the array.\n"
   ]
  },
  {
   "cell_type": "markdown",
   "id": "7461a1d9",
   "metadata": {},
   "source": [
    "# Array Indexing : in 1D"
   ]
  },
  {
   "cell_type": "code",
   "execution_count": 17,
   "id": "1bc8c64e",
   "metadata": {},
   "outputs": [
    {
     "name": "stdout",
     "output_type": "stream",
     "text": [
      "1\n",
      "[3 4]\n",
      "[2 3]\n"
     ]
    }
   ],
   "source": [
    "a = np.array([1,2,3,4])\n",
    "print(a[0])\n",
    "print(a[2:])\n",
    "print(a[1:3:1])"
   ]
  },
  {
   "cell_type": "markdown",
   "id": "86136f01",
   "metadata": {},
   "source": [
    "## Array Indexing : In 2D"
   ]
  },
  {
   "cell_type": "code",
   "execution_count": 53,
   "id": "c656173b",
   "metadata": {},
   "outputs": [
    {
     "name": "stdout",
     "output_type": "stream",
     "text": [
      "[2 3 4 5 6]\n",
      "[20 30 40 50 90]\n",
      "40\n",
      "[50 90]\n",
      "[ 3  8 30]\n",
      "[[ 3  6]\n",
      " [ 8 90]\n",
      " [30 90]]\n",
      "[[ 2  5]\n",
      " [20 50]]\n",
      "[[ 2  3  4  5  6]\n",
      " [ 7  8  9  0 90]\n",
      " [20 30 40 50 90]]\n"
     ]
    }
   ],
   "source": [
    "a=np.array([[2,3,4,5,6],[7,8,9,0,90],[20,30,40,50,90]])\n",
    "print(a[0])\n",
    "\n",
    "print(a[-1])\n",
    "\n",
    "print(a[-1][2])\n",
    "\n",
    "print(a[-1][3:])\n",
    "\n",
    "print(a[:,1])\n",
    "\n",
    "print(a[:,1:5:3])\n",
    "\n",
    "print(a[0:3:2,0:4:3])\n",
    "print(a)"
   ]
  },
  {
   "cell_type": "code",
   "execution_count": 52,
   "id": "25f05b00",
   "metadata": {},
   "outputs": [
    {
     "name": "stdout",
     "output_type": "stream",
     "text": [
      "[[ 2  3  4  5  6]\n",
      " [20 30 40 50 90]]\n"
     ]
    }
   ],
   "source": [
    "print(a[0:3:2])"
   ]
  },
  {
   "cell_type": "code",
   "execution_count": 56,
   "id": "02aafc06",
   "metadata": {},
   "outputs": [
    {
     "data": {
      "text/plain": [
       "array([[ 2,  3,  4,  5,  6],\n",
       "       [ 7,  8,  9,  0, 90],\n",
       "       [20, 30, 40, 50, 90]])"
      ]
     },
     "execution_count": 56,
     "metadata": {},
     "output_type": "execute_result"
    }
   ],
   "source": [
    "a"
   ]
  },
  {
   "cell_type": "code",
   "execution_count": 55,
   "id": "656bb066",
   "metadata": {},
   "outputs": [
    {
     "data": {
      "text/plain": [
       "array([[ 8,  9],\n",
       "       [30, 40]])"
      ]
     },
     "execution_count": 55,
     "metadata": {},
     "output_type": "execute_result"
    }
   ],
   "source": [
    "a[1:3,1:3]"
   ]
  },
  {
   "cell_type": "code",
   "execution_count": 57,
   "id": "359042d0",
   "metadata": {},
   "outputs": [
    {
     "name": "stdout",
     "output_type": "stream",
     "text": [
      "[[ 2  3  4  5  6]\n",
      " [ 7  8  9  0 90]\n",
      " [20 30 40 50 90]]\n",
      "[2 3 4 5 6]\n",
      "[ 7  8  9  0 90]\n",
      "[20 30 40 50 90]\n",
      "[20 30 40 50 90]\n",
      "4\n",
      "[ 9  0 90]\n",
      "7\n",
      "[ 4  9 40]\n",
      "[[ 4  5  6]\n",
      " [ 9  0 90]]\n",
      "[9]\n",
      "[[ 4  6]\n",
      " [40 90]]\n",
      "[[ 3  5]\n",
      " [30 50]]\n"
     ]
    }
   ],
   "source": [
    "a=np.array([[2,3,4,5,6],[7,8,9,0,90],[20,30,40,50,90]])  # 2d array  here , \n",
    "print(a)\n",
    "print(a[0]) #or print(a[-3]) means first row\n",
    "print(a[1]) #or print(a[-2]) means second row\n",
    "print(a[2]) #or print(a[-1]) means third row\n",
    "print(a[-1]) # or print(a[2])  means  last row\n",
    "print(a[0][2]) # fetch 4\n",
    "print(a[1][2:]) # 9,0,90\n",
    "print(a[-2][0])  # fetch 7\n",
    "print(a[:,2])  ## all rows with 2nd column  (discontinous manner)\n",
    "print(a[0:2,2:]) ## ist and 2nd rows with columns from 2nd(disconinous manner)\n",
    "print(a[1,2:3])\n",
    "print(a[0:3:2,2:5:2]) ## feth 4,6 40 ,90\n",
    "#print(a[[0,2],[1,3]])\n",
    "print(a[0:3:2,1:4:2]) ## fetch 3, 30 5 and 50\n",
    " \n"
   ]
  },
  {
   "cell_type": "code",
   "execution_count": 66,
   "id": "2fcac965",
   "metadata": {},
   "outputs": [
    {
     "data": {
      "text/plain": [
       "array([[[[[[[['pizza', 'sweet corn', 'coffee', 'lemonade']]]]]]]],\n",
       "      dtype='<U10')"
      ]
     },
     "execution_count": 66,
     "metadata": {},
     "output_type": "execute_result"
    }
   ],
   "source": [
    "a=np.array([[[[[[[[\"pizza\",\"sweet corn\",\"coffee\",\"lemonade\"]]]]]]]])\n",
    "a\n"
   ]
  },
  {
   "cell_type": "code",
   "execution_count": 60,
   "id": "709c47ce",
   "metadata": {},
   "outputs": [
    {
     "name": "stdout",
     "output_type": "stream",
     "text": [
      "['pizza' 'sweet corn' 'coffee' 'lemonade']\n"
     ]
    }
   ],
   "source": [
    "print(a[0][0][0][0][0][0][0])"
   ]
  },
  {
   "cell_type": "code",
   "execution_count": 69,
   "id": "85560fd4",
   "metadata": {},
   "outputs": [
    {
     "name": "stdout",
     "output_type": "stream",
     "text": [
      "['sweet corn' 'coffee' 'lemonade']\n"
     ]
    }
   ],
   "source": [
    "print(a[0][0][0][0][0][0][0][1:])"
   ]
  },
  {
   "cell_type": "code",
   "execution_count": 70,
   "id": "18d213fe",
   "metadata": {},
   "outputs": [
    {
     "data": {
      "text/plain": [
       "array([[[[[ 1,  2,  3, 50],\n",
       "          [ 4,  5,  6, 90],\n",
       "          [ 7,  8,  9, 99],\n",
       "          [11, 12,  3, 98]]]]])"
      ]
     },
     "execution_count": 70,
     "metadata": {},
     "output_type": "execute_result"
    }
   ],
   "source": [
    "a=np.array([[[[[1,2,3,50,],[4,5,6,90],[7,8,9,99],[11,12,3,98]]]]])\n",
    "a"
   ]
  },
  {
   "cell_type": "code",
   "execution_count": 71,
   "id": "78165b07",
   "metadata": {},
   "outputs": [
    {
     "data": {
      "text/plain": [
       "98"
      ]
     },
     "execution_count": 71,
     "metadata": {},
     "output_type": "execute_result"
    }
   ],
   "source": [
    "a[0][0][0][-1][-1]"
   ]
  },
  {
   "cell_type": "code",
   "execution_count": 72,
   "id": "1a3b88fe",
   "metadata": {},
   "outputs": [
    {
     "data": {
      "text/plain": [
       "98"
      ]
     },
     "execution_count": 72,
     "metadata": {},
     "output_type": "execute_result"
    }
   ],
   "source": [
    "a[0][0][0][3][-1]\n"
   ]
  },
  {
   "cell_type": "code",
   "execution_count": 73,
   "id": "eca1cc5a",
   "metadata": {},
   "outputs": [
    {
     "data": {
      "text/plain": [
       "array([[[[ 1,  2,  3,  4,  5],\n",
       "         [ 6,  7,  8,  9,  0],\n",
       "         [11, 12, 13, 14, 15],\n",
       "         [16, 17, 18, 19, 20]]]])"
      ]
     },
     "execution_count": 73,
     "metadata": {},
     "output_type": "execute_result"
    }
   ],
   "source": [
    "a=np.array([[[[1,2,3,4,5],[6,7,8,9,0],[11,12,13,14,15],[16,17,18,19,20]]]])\n",
    "a"
   ]
  },
  {
   "cell_type": "code",
   "execution_count": 74,
   "id": "f8398e36",
   "metadata": {},
   "outputs": [
    {
     "data": {
      "text/plain": [
       "19"
      ]
     },
     "execution_count": 74,
     "metadata": {},
     "output_type": "execute_result"
    }
   ],
   "source": [
    "a[0][0][-1][-2]"
   ]
  },
  {
   "cell_type": "code",
   "execution_count": 76,
   "id": "41c1fc03",
   "metadata": {},
   "outputs": [
    {
     "data": {
      "text/plain": [
       "array([13, 15])"
      ]
     },
     "execution_count": 76,
     "metadata": {},
     "output_type": "execute_result"
    }
   ],
   "source": [
    "a[0][0][2][2:5:2]"
   ]
  },
  {
   "cell_type": "code",
   "execution_count": 2,
   "id": "f6384741",
   "metadata": {},
   "outputs": [
    {
     "data": {
      "text/plain": [
       "array([[[ 1,  2,  3],\n",
       "        [ 4,  5,  6]],\n",
       "\n",
       "       [[ 7,  8,  9],\n",
       "        [10, 11, 12]]])"
      ]
     },
     "execution_count": 2,
     "metadata": {},
     "output_type": "execute_result"
    }
   ],
   "source": [
    "import numpy as np\n",
    "arr = np.array([[[1, 2, 3], [4, 5, 6]], [[7, 8, 9], [10, 11, 12]]])\n",
    "arr"
   ]
  },
  {
   "cell_type": "code",
   "execution_count": 3,
   "id": "09dee977",
   "metadata": {},
   "outputs": [
    {
     "data": {
      "text/plain": [
       "array([7, 8, 9])"
      ]
     },
     "execution_count": 3,
     "metadata": {},
     "output_type": "execute_result"
    }
   ],
   "source": [
    "arr[1][0]"
   ]
  },
  {
   "cell_type": "code",
   "execution_count": 10,
   "id": "a82638d4",
   "metadata": {},
   "outputs": [
    {
     "data": {
      "text/plain": [
       "array([[ 8,  9],\n",
       "       [11, 12]])"
      ]
     },
     "execution_count": 10,
     "metadata": {},
     "output_type": "execute_result"
    }
   ],
   "source": [
    "arr[1][:,1:] # 8,9,11,12 or # 11,12"
   ]
  },
  {
   "cell_type": "markdown",
   "id": "38421538",
   "metadata": {},
   "source": [
    "## Indexing With Boolean (Important From EDA Point OF View)"
   ]
  },
  {
   "cell_type": "code",
   "execution_count": 11,
   "id": "a5de4d49",
   "metadata": {},
   "outputs": [
    {
     "data": {
      "text/plain": [
       "array([[ 20,  30,  60],\n",
       "       [ 40,  80,  90],\n",
       "       [ 70,  90, 100]])"
      ]
     },
     "execution_count": 11,
     "metadata": {},
     "output_type": "execute_result"
    }
   ],
   "source": [
    "a=np.array([[20,30,60],[40,80,90],[70,90,100]])\n",
    "a\n"
   ]
  },
  {
   "cell_type": "code",
   "execution_count": 12,
   "id": "9655de28",
   "metadata": {},
   "outputs": [
    {
     "data": {
      "text/plain": [
       "array([[ True,  True, False],\n",
       "       [False, False, False],\n",
       "       [False, False, False]])"
      ]
     },
     "execution_count": 12,
     "metadata": {},
     "output_type": "execute_result"
    }
   ],
   "source": [
    "a<40"
   ]
  },
  {
   "cell_type": "code",
   "execution_count": 14,
   "id": "c3b6e3a3",
   "metadata": {},
   "outputs": [
    {
     "data": {
      "text/plain": [
       "array([[ True,  True, False],\n",
       "       [False, False, False],\n",
       "       [False, False, False]])"
      ]
     },
     "execution_count": 14,
     "metadata": {},
     "output_type": "execute_result"
    }
   ],
   "source": [
    "z=a<40\n",
    "z"
   ]
  },
  {
   "cell_type": "code",
   "execution_count": 16,
   "id": "96a24279",
   "metadata": {},
   "outputs": [
    {
     "name": "stdout",
     "output_type": "stream",
     "text": [
      "[20 30]\n",
      "[20 30]\n"
     ]
    }
   ],
   "source": [
    "print(a[z])\n",
    "# or \n",
    "print(a[a<40])"
   ]
  },
  {
   "cell_type": "code",
   "execution_count": 17,
   "id": "4379c4d5",
   "metadata": {},
   "outputs": [
    {
     "data": {
      "text/plain": [
       "[array([['85', '85', 'Nothing'],\n",
       "        ['Nothing', 'Nothing', 'Nothing'],\n",
       "        ['Nothing', 'Nothing', 'Nothing']], dtype='<U11')]"
      ]
     },
     "execution_count": 17,
     "metadata": {},
     "output_type": "execute_result"
    }
   ],
   "source": [
    "## np.where returns index\n",
    "[np.where(a<40,85,\"Nothing\")]"
   ]
  },
  {
   "cell_type": "code",
   "execution_count": 22,
   "id": "190ed903",
   "metadata": {},
   "outputs": [
    {
     "name": "stdout",
     "output_type": "stream",
     "text": [
      "[ 60  80  90  70  90 100]\n"
     ]
    }
   ],
   "source": [
    "## greater than 40 and also even\n",
    "print(a[(a%2==0)&(a>40)])\n"
   ]
  },
  {
   "cell_type": "code",
   "execution_count": 23,
   "id": "774d1ecc",
   "metadata": {},
   "outputs": [
    {
     "data": {
      "text/plain": [
       "[[[[2, 3, 4, 5], [40, 50, 60, 90]]]]"
      ]
     },
     "execution_count": 23,
     "metadata": {},
     "output_type": "execute_result"
    }
   ],
   "source": [
    "a=[[[[2,3,4,5],[40,50,60,90]]]]\n",
    "a"
   ]
  },
  {
   "cell_type": "code",
   "execution_count": 65,
   "id": "1d324372",
   "metadata": {},
   "outputs": [
    {
     "name": "stdout",
     "output_type": "stream",
     "text": [
      "[ 3 50]\n",
      "[60 90]\n",
      "[ 3 90]\n"
     ]
    }
   ],
   "source": [
    "m=np.array(a)\n",
    "m\n",
    "print(m[0][0][:,1])\n",
    "print(m[0][0][1,2:])\n",
    "print(m[0][0][[0,1],[1,3]])\n"
   ]
  },
  {
   "cell_type": "code",
   "execution_count": null,
   "id": "c89d3c70",
   "metadata": {},
   "outputs": [],
   "source": []
  },
  {
   "cell_type": "code",
   "execution_count": 90,
   "id": "847553fa",
   "metadata": {},
   "outputs": [
    {
     "data": {
      "text/plain": [
       "array([ 4, 60])"
      ]
     },
     "execution_count": 90,
     "metadata": {},
     "output_type": "execute_result"
    }
   ],
   "source": [
    "m[0][0][:,2]"
   ]
  },
  {
   "cell_type": "markdown",
   "id": "a31df882",
   "metadata": {},
   "source": [
    "# How TO fetch Each Element Of Array Using Loop In Order to perform Any # \n",
    "# Logic On Each Element : Using np.nditer\n"
   ]
  },
  {
   "cell_type": "code",
   "execution_count": 94,
   "id": "63360d8b",
   "metadata": {},
   "outputs": [
    {
     "name": "stdout",
     "output_type": "stream",
     "text": [
      "[[2 3 4]\n",
      " [5 6 7]]\n",
      "2\n",
      "3\n",
      "4\n",
      "5\n",
      "6\n",
      "7\n"
     ]
    }
   ],
   "source": [
    "a = np.array([[2,3,4],[5,6,7]])\n",
    "print(a)\n",
    "for i in np.nditer(a):\n",
    "    print(i)"
   ]
  },
  {
   "cell_type": "markdown",
   "id": "f64fab03",
   "metadata": {},
   "source": [
    "## Copy and View"
   ]
  },
  {
   "cell_type": "code",
   "execution_count": 95,
   "id": "8e0d9b05",
   "metadata": {},
   "outputs": [
    {
     "name": "stdout",
     "output_type": "stream",
     "text": [
      "copy... [ 1  2  3 70]\n",
      "Original Array.. [1 2 3 4]\n"
     ]
    }
   ],
   "source": [
    "##   copy\n",
    "a = np.array([1,2,3,4])\n",
    "a1=a.copy() # Deep Copy\n",
    "a1[3]=70\n",
    "print(\"copy...\",a1)\n",
    "print(\"Original Array..\",a)"
   ]
  },
  {
   "cell_type": "code",
   "execution_count": 96,
   "id": "129f4278",
   "metadata": {},
   "outputs": [
    {
     "name": "stdout",
     "output_type": "stream",
     "text": [
      "copy... [ 1  2  3 70]\n",
      "Original Array.. [ 1  2  3 70]\n"
     ]
    }
   ],
   "source": [
    "#  VIew\n",
    "a = np.array([1,2,3,4])\n",
    "a1=a.view() # Deep Copy\n",
    "a1[3]=70\n",
    "print(\"copy...\",a1)\n",
    "print(\"Original Array..\",a)"
   ]
  },
  {
   "cell_type": "code",
   "execution_count": 97,
   "id": "3e7888d5",
   "metadata": {},
   "outputs": [
    {
     "name": "stdout",
     "output_type": "stream",
     "text": [
      "original.. [  1   2 200  70]\n",
      "View Copy.. [  1   2 200  70]\n"
     ]
    }
   ],
   "source": [
    "## Another Example Of View Copy\n",
    "a2=a1 #\n",
    "a2[2]=200\n",
    "print(\"original..\",a1)\n",
    "print(\"View Copy..\",a2)\n"
   ]
  },
  {
   "cell_type": "markdown",
   "id": "8fb00c5f",
   "metadata": {},
   "source": [
    "## Shape Manipulation : Reshape , Resize (Shallow=Reshape,DeepCopy=Resize"
   ]
  }
 ],
 "metadata": {
  "kernelspec": {
   "display_name": "Python 3 (ipykernel)",
   "language": "python",
   "name": "python3"
  },
  "language_info": {
   "codemirror_mode": {
    "name": "ipython",
    "version": 3
   },
   "file_extension": ".py",
   "mimetype": "text/x-python",
   "name": "python",
   "nbconvert_exporter": "python",
   "pygments_lexer": "ipython3",
   "version": "3.9.12"
  }
 },
 "nbformat": 4,
 "nbformat_minor": 5
}

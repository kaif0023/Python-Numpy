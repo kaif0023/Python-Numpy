{
 "cells": [
  {
   "cell_type": "code",
   "execution_count": 1,
   "id": "187a8414",
   "metadata": {},
   "outputs": [],
   "source": [
    "import numpy as np"
   ]
  },
  {
   "cell_type": "code",
   "execution_count": 3,
   "id": "afda03f8",
   "metadata": {},
   "outputs": [
    {
     "data": {
      "text/plain": [
       "(2, 6)"
      ]
     },
     "execution_count": 3,
     "metadata": {},
     "output_type": "execute_result"
    }
   ],
   "source": [
    "x = np.array([[1,2,3,4,5,6],[7,8,9,10,11,12]])\n",
    "x.shape"
   ]
  },
  {
   "cell_type": "markdown",
   "id": "98283fa2",
   "metadata": {},
   "source": [
    "### RESHAPE"
   ]
  },
  {
   "cell_type": "code",
   "execution_count": 4,
   "id": "f76be8d8",
   "metadata": {},
   "outputs": [
    {
     "name": "stdout",
     "output_type": "stream",
     "text": [
      "shallow copy.. [[ 1  2  3  4  5  6  7  8  9 10 11 12]]\n",
      "original array.. [[ 1  2  3  4  5  6]\n",
      " [ 7  8  9 10 11 12]]\n",
      "Copy 2.. [[ 1  2  3  4]\n",
      " [ 5  6  7  8]\n",
      " [ 9 10 11 12]]\n",
      "Copy 3.. [[ 1  2]\n",
      " [ 3  4]\n",
      " [ 5  6]\n",
      " [ 7  8]\n",
      " [ 9 10]\n",
      " [11 12]]\n"
     ]
    }
   ],
   "source": [
    "# RESHAPE\n",
    "x = np.array([[1,2,3,4,5,6],[7,8,9,10,11,12]])\n",
    "x1=x.reshape(1,12)\n",
    "print(\"shallow copy..\",x1)\n",
    "print(\"original array..\",x)\n",
    "x2=x.reshape(3,4)\n",
    "print(\"Copy 2..\",x2)\n",
    "x3=x.reshape(6,2)\n",
    "print(\"Copy 3..\",x3)"
   ]
  },
  {
   "cell_type": "markdown",
   "id": "48ee023d",
   "metadata": {},
   "source": [
    "### Resize"
   ]
  },
  {
   "cell_type": "code",
   "execution_count": null,
   "id": "91ad5386",
   "metadata": {},
   "outputs": [],
   "source": [
    "x1=x.resize(1,12)\n",
    "print(\"deep copy..\",x1) ## Returns Nothing ... Changes Original Data\n",
    "print(\"original array..\",x)"
   ]
  },
  {
   "cell_type": "code",
   "execution_count": 5,
   "id": "2d55d540",
   "metadata": {},
   "outputs": [
    {
     "name": "stdout",
     "output_type": "stream",
     "text": [
      "[[[1 2]\n",
      "  [3 4]]\n",
      "\n",
      " [[5 6]\n",
      "  [7 8]]]\n",
      "[[[1 2]\n",
      "  [3 4]]\n",
      "\n",
      " [[5 6]\n",
      "  [7 8]]]\n"
     ]
    }
   ],
   "source": [
    "arr = np.array([1, 2, 3, 4, 5, 6, 7, 8])\n",
    "newarr= arr.reshape(2,2,-1)\n",
    "newarr1= arr.reshape(-1,2,2)\n",
    "print(newarr)\n",
    "print(newarr1)"
   ]
  },
  {
   "cell_type": "markdown",
   "id": "b148bdce",
   "metadata": {},
   "source": [
    "### Flatten The Array - Ravel (Shallow Copy),Flatten(Deepcopy)\n",
    "### Flattening The Arrays means Converting Multi-dimensional Arrays Into 1D Arrays.."
   ]
  },
  {
   "cell_type": "code",
   "execution_count": 6,
   "id": "bdb513f4",
   "metadata": {},
   "outputs": [
    {
     "name": "stdout",
     "output_type": "stream",
     "text": [
      "1d .. [1 2 3 4 5 7]\n",
      "2d .. [[1 2 3]\n",
      " [4 5 7]]\n"
     ]
    }
   ],
   "source": [
    "# By USing Ravel\n",
    "\n",
    "arr = np.array([[1,2,3],[4,5,7]])\n",
    "arr1 = arr.ravel()\n",
    "print(\"1d ..\",arr1)\n",
    "print(\"2d ..\",arr)"
   ]
  },
  {
   "cell_type": "code",
   "execution_count": 7,
   "id": "1a65fffd",
   "metadata": {},
   "outputs": [
    {
     "name": "stdout",
     "output_type": "stream",
     "text": [
      "[[  1   2 360]\n",
      " [  4   5   7]] Original\n",
      "[  1   2 360   4   5   7] Deep Copy\n"
     ]
    }
   ],
   "source": [
    "arr1[2]=360\n",
    "print(arr,\"Original\")\n",
    "print(arr1,\"Deep Copy\")"
   ]
  },
  {
   "cell_type": "code",
   "execution_count": 8,
   "id": "1129941f",
   "metadata": {},
   "outputs": [
    {
     "name": "stdout",
     "output_type": "stream",
     "text": [
      "1d .. [1 2 3 4 5 7] Copy\n",
      "2d .. [[1 2 3]\n",
      " [4 5 7]] original\n",
      "[[1 2 3]\n",
      " [4 5 7]] Original\n",
      "[  1   2 360   4   5   7] shallow Copy\n"
     ]
    }
   ],
   "source": [
    "# By Using Flatten\n",
    "\n",
    "arr = np.array([[1,2,3],[4,5,7]])\n",
    "arr1 = arr.flatten()\n",
    "print(\"1d ..\",arr1,\"Copy\")\n",
    "print(\"2d ..\",arr,\"original\")\n",
    "arr1[2]=360\n",
    "print(arr,\"Original\")\n",
    "print(arr1,\"shallow Copy\")"
   ]
  },
  {
   "cell_type": "code",
   "execution_count": 9,
   "id": "eee14618",
   "metadata": {},
   "outputs": [
    {
     "name": "stdout",
     "output_type": "stream",
     "text": [
      "1d .. [1 2 3 4 5 7] Copy\n",
      "2d .. [[1 2 3]\n",
      " [4 5 7]] original\n",
      "[[  1   2 360]\n",
      " [  4   5   7]] Original\n",
      "[  1   2 360   4   5   7] Deep Copy\n"
     ]
    }
   ],
   "source": [
    "# BY Using Reshape -1\n",
    "\n",
    "arr = np.array([[1,2,3],[4,5,7]])\n",
    "arr1 = arr.reshape(-1)\n",
    "print(\"1d ..\",arr1,\"Copy\")\n",
    "print(\"2d ..\",arr,\"original\")\n",
    "arr1[2]=360\n",
    "print(arr,\"Original\")\n",
    "print(arr1,\"Deep Copy\")"
   ]
  },
  {
   "cell_type": "markdown",
   "id": "153985e9",
   "metadata": {},
   "source": [
    "# Arange - Returns an Arrays Of Consecutive Generated Numbers\n"
   ]
  },
  {
   "cell_type": "code",
   "execution_count": 10,
   "id": "7a1d9271",
   "metadata": {},
   "outputs": [
    {
     "name": "stdout",
     "output_type": "stream",
     "text": [
      "[ 1  2  3  4  5  6  7  8  9 10]\n",
      "[1 3 5 7 9]\n",
      "[ 1.1  1.3  1.5  1.7  1.9  2.1  2.3  2.5  2.7  2.9  3.1  3.3  3.5  3.7\n",
      "  3.9  4.1  4.3  4.5  4.7  4.9  5.1  5.3  5.5  5.7  5.9  6.1  6.3  6.5\n",
      "  6.7  6.9  7.1  7.3  7.5  7.7  7.9  8.1  8.3  8.5  8.7  8.9  9.1  9.3\n",
      "  9.5  9.7  9.9 10.1 10.3 10.5 10.7 10.9 11.1]\n"
     ]
    }
   ],
   "source": [
    "a=np.arange(1,11)\n",
    "print(a)\n",
    "a1=np.arange(1,11,2)\n",
    "print(a1)\n",
    "a2=np.arange(1.1,11.2,0.2)\n",
    "print(a2)"
   ]
  },
  {
   "cell_type": "markdown",
   "id": "2de445f2",
   "metadata": {},
   "source": [
    "## Line Space "
   ]
  },
  {
   "cell_type": "code",
   "execution_count": 12,
   "id": "5c50922a",
   "metadata": {},
   "outputs": [
    {
     "data": {
      "text/plain": [
       "array([-30.        , -23.33333333, -16.66666667, -10.        ,\n",
       "        -3.33333333,   3.33333333,  10.        ,  16.66666667,\n",
       "        23.33333333,  30.        ])"
      ]
     },
     "execution_count": 12,
     "metadata": {},
     "output_type": "execute_result"
    }
   ],
   "source": [
    "a=np.linspace(-30,30,10) # 10 elemnts Generated \n",
    "# linspace() creates an array of equally spaced 10 elements\n",
    "a"
   ]
  },
  {
   "cell_type": "code",
   "execution_count": 13,
   "id": "0c34764a",
   "metadata": {},
   "outputs": [
    {
     "data": {
      "text/plain": [
       "array([-30, -20, -10,   0,  10,  20])"
      ]
     },
     "execution_count": 13,
     "metadata": {},
     "output_type": "execute_result"
    }
   ],
   "source": [
    "a=np.arange(-30,30,10) # 10 elemnts not Generated\n",
    "a"
   ]
  },
  {
   "cell_type": "markdown",
   "id": "0c51a55e",
   "metadata": {},
   "source": [
    "## Log Space - Generates log value of linspace "
   ]
  },
  {
   "cell_type": "code",
   "execution_count": 14,
   "id": "bea65d66",
   "metadata": {},
   "outputs": [
    {
     "data": {
      "text/plain": [
       "array([1.00000000e-30, 4.64158883e-24, 2.15443469e-17, 1.00000000e-10,\n",
       "       4.64158883e-04, 2.15443469e+03, 1.00000000e+10, 4.64158883e+16,\n",
       "       2.15443469e+23, 1.00000000e+30])"
      ]
     },
     "execution_count": 14,
     "metadata": {},
     "output_type": "execute_result"
    }
   ],
   "source": [
    "a=np.logspace(-30,30,10) # Show Log Value of Linspace\n",
    "a"
   ]
  },
  {
   "cell_type": "code",
   "execution_count": 16,
   "id": "e3301bed",
   "metadata": {},
   "outputs": [
    {
     "data": {
      "text/plain": [
       "array([[[[ 2,  3,  4,  5],\n",
       "         [40, 50, 60, 90]]]])"
      ]
     },
     "execution_count": 16,
     "metadata": {},
     "output_type": "execute_result"
    }
   ],
   "source": [
    "a=np.array([[[[2,3,4,5],[40,50,60,90]]]])\n",
    "a"
   ]
  },
  {
   "cell_type": "code",
   "execution_count": 17,
   "id": "2c24f714",
   "metadata": {},
   "outputs": [
    {
     "name": "stdout",
     "output_type": "stream",
     "text": [
      "[ 3 90]\n"
     ]
    }
   ],
   "source": [
    "print(a[0][0][[0,1],[1,3]])"
   ]
  },
  {
   "cell_type": "code",
   "execution_count": 18,
   "id": "e42223d4",
   "metadata": {},
   "outputs": [
    {
     "name": "stdout",
     "output_type": "stream",
     "text": [
      "[ 3  5  7  9 11 13 15 17 19 21 23 25 27 29]\n",
      "[13 15 21 29]\n"
     ]
    }
   ],
   "source": [
    "a=np.arange(3,30,2) #,,13 15 21 29\n",
    "print(a)\n",
    "print(a[[5,6,9,13]])"
   ]
  },
  {
   "cell_type": "markdown",
   "id": "db4e965c",
   "metadata": {},
   "source": [
    "# some arrays are used for initialization purpose\n",
    "## 1 np.ones()\n",
    "## 2 np.zeros()\n",
    "## 3 np.empty()"
   ]
  },
  {
   "cell_type": "code",
   "execution_count": 19,
   "id": "8206d3e1",
   "metadata": {},
   "outputs": [
    {
     "name": "stdout",
     "output_type": "stream",
     "text": [
      "[[[1.39838196e-76 1.39804329e-76 1.39804329e-76 1.39804329e-76]\n",
      "  [1.39804329e-76 1.39804329e-76 1.39804329e-76 9.73041592e-72]\n",
      "  [9.73041595e-72 9.73041595e-72 9.73041595e-72 9.73041595e-72]\n",
      "  [1.39804329e-76 1.39804329e-76 1.39804329e-76 9.73041595e-72]]]\n"
     ]
    }
   ],
   "source": [
    "a = np.empty([1,4,4])\n",
    "print(a)"
   ]
  },
  {
   "cell_type": "code",
   "execution_count": 20,
   "id": "4424d667",
   "metadata": {},
   "outputs": [
    {
     "data": {
      "text/plain": [
       "array([[912451088,       564,         0]])"
      ]
     },
     "execution_count": 20,
     "metadata": {},
     "output_type": "execute_result"
    }
   ],
   "source": [
    "a = np.empty([1,3],dtype=\"int\")\n",
    "a"
   ]
  },
  {
   "cell_type": "code",
   "execution_count": 21,
   "id": "e4d5d265",
   "metadata": {},
   "outputs": [
    {
     "data": {
      "text/plain": [
       "array([[0, 0, 0, 0],\n",
       "       [0, 0, 0, 0],\n",
       "       [0, 0, 0, 0]])"
      ]
     },
     "execution_count": 21,
     "metadata": {},
     "output_type": "execute_result"
    }
   ],
   "source": [
    "a=np.zeros([3,4],dtype=\"int\")\n",
    "a"
   ]
  },
  {
   "cell_type": "code",
   "execution_count": 24,
   "id": "5f144a95",
   "metadata": {
    "scrolled": true
   },
   "outputs": [
    {
     "data": {
      "text/plain": [
       "array([[1, 1, 1, 1],\n",
       "       [1, 1, 1, 1],\n",
       "       [1, 1, 1, 1],\n",
       "       [1, 1, 1, 1],\n",
       "       [1, 1, 1, 1]])"
      ]
     },
     "execution_count": 24,
     "metadata": {},
     "output_type": "execute_result"
    }
   ],
   "source": [
    "a=np.ones([5,4],dtype=\"int\")\n",
    "a"
   ]
  },
  {
   "cell_type": "code",
   "execution_count": null,
   "id": "367e8612",
   "metadata": {},
   "outputs": [],
   "source": []
  }
 ],
 "metadata": {
  "kernelspec": {
   "display_name": "Python 3 (ipykernel)",
   "language": "python",
   "name": "python3"
  },
  "language_info": {
   "codemirror_mode": {
    "name": "ipython",
    "version": 3
   },
   "file_extension": ".py",
   "mimetype": "text/x-python",
   "name": "python",
   "nbconvert_exporter": "python",
   "pygments_lexer": "ipython3",
   "version": "3.9.12"
  }
 },
 "nbformat": 4,
 "nbformat_minor": 5
}

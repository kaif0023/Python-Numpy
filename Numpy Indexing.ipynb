{
 "cells": [
  {
   "cell_type": "code",
   "execution_count": 1,
   "id": "96f2bb18",
   "metadata": {},
   "outputs": [],
   "source": [
    "import numpy as np"
   ]
  },
  {
   "cell_type": "markdown",
   "id": "2aa47e45",
   "metadata": {},
   "source": [
    "## Array Indexing In 1-Dimension"
   ]
  },
  {
   "cell_type": "code",
   "execution_count": 2,
   "id": "7cfe5e40",
   "metadata": {},
   "outputs": [
    {
     "name": "stdout",
     "output_type": "stream",
     "text": [
      "1\n",
      "[3 4]\n",
      "[2 3]\n"
     ]
    }
   ],
   "source": [
    "a = np.array([1,2,3,4])\n",
    "print(a[0])\n",
    "print(a[2:])\n",
    "print(a[1:3:1])"
   ]
  },
  {
   "cell_type": "markdown",
   "id": "f192bc88",
   "metadata": {},
   "source": [
    "## Array Indexing In 2-Dimension"
   ]
  },
  {
   "cell_type": "code",
   "execution_count": 3,
   "id": "088a45ff",
   "metadata": {},
   "outputs": [
    {
     "name": "stdout",
     "output_type": "stream",
     "text": [
      "[2 3 4 5 6]\n",
      "[20 30 40 50 90]\n",
      "40\n",
      "[50 90]\n",
      "[ 3  8 30]\n",
      "[[ 3  6]\n",
      " [ 8 90]\n",
      " [30 90]]\n",
      "[[ 2  5]\n",
      " [20 50]]\n",
      "[[ 2  3  4  5  6]\n",
      " [ 7  8  9  0 90]\n",
      " [20 30 40 50 90]]\n"
     ]
    }
   ],
   "source": [
    "a=np.array([[2,3,4,5,6],[7,8,9,0,90],[20,30,40,50,90]])\n",
    "print(a[0])\n",
    "\n",
    "print(a[-1])\n",
    "\n",
    "print(a[-1][2])\n",
    "\n",
    "print(a[-1][3:])\n",
    "\n",
    "print(a[:,1])\n",
    "\n",
    "print(a[:,1:5:3])\n",
    "\n",
    "print(a[0:3:2,0:4:3])\n",
    "print(a)"
   ]
  },
  {
   "cell_type": "code",
   "execution_count": 4,
   "id": "6849bb24",
   "metadata": {},
   "outputs": [
    {
     "name": "stdout",
     "output_type": "stream",
     "text": [
      "[[ 2  3  4  5  6]\n",
      " [20 30 40 50 90]]\n"
     ]
    }
   ],
   "source": [
    "print(a[0:3:2])"
   ]
  },
  {
   "cell_type": "code",
   "execution_count": 5,
   "id": "89491a45",
   "metadata": {},
   "outputs": [
    {
     "data": {
      "text/plain": [
       "array([[ 8,  9],\n",
       "       [30, 40]])"
      ]
     },
     "execution_count": 5,
     "metadata": {},
     "output_type": "execute_result"
    }
   ],
   "source": [
    "a[1:3,1:3]"
   ]
  },
  {
   "cell_type": "code",
   "execution_count": 6,
   "id": "27e12178",
   "metadata": {},
   "outputs": [
    {
     "name": "stdout",
     "output_type": "stream",
     "text": [
      "[[ 2  3  4  5  6]\n",
      " [ 7  8  9  0 90]\n",
      " [20 30 40 50 90]]\n",
      "[2 3 4 5 6]\n",
      "[ 7  8  9  0 90]\n",
      "[20 30 40 50 90]\n",
      "[20 30 40 50 90]\n",
      "4\n",
      "[ 9  0 90]\n",
      "7\n",
      "[ 4  9 40]\n",
      "[[ 4  5  6]\n",
      " [ 9  0 90]]\n",
      "[9]\n",
      "[[ 4  6]\n",
      " [40 90]]\n",
      "[[ 3  5]\n",
      " [30 50]]\n"
     ]
    }
   ],
   "source": [
    "a=np.array([[2,3,4,5,6],[7,8,9,0,90],[20,30,40,50,90]])  # 2d array  here , \n",
    "print(a)\n",
    "print(a[0]) #or print(a[-3]) means first row\n",
    "print(a[1]) #or print(a[-2]) means second row\n",
    "print(a[2]) #or print(a[-1]) means third row\n",
    "print(a[-1]) # or print(a[2])  means  last row\n",
    "print(a[0][2]) # fetch 4\n",
    "print(a[1][2:]) # 9,0,90\n",
    "print(a[-2][0])  # fetch 7\n",
    "print(a[:,2])  ## all rows with 2nd column  (discontinous manner)\n",
    "print(a[0:2,2:]) ## ist and 2nd rows with columns from 2nd(disconinous manner)\n",
    "print(a[1,2:3])\n",
    "print(a[0:3:2,2:5:2]) ## feth 4,6 40 ,90\n",
    "#print(a[[0,2],[1,3]])\n",
    "print(a[0:3:2,1:4:2]) ## fetch 3, 30 5 and 50\n",
    " "
   ]
  },
  {
   "cell_type": "code",
   "execution_count": 7,
   "id": "bdc101e2",
   "metadata": {},
   "outputs": [
    {
     "data": {
      "text/plain": [
       "array([[[[[[[['pizza', 'sweet corn', 'coffee', 'lemonade']]]]]]]],\n",
       "      dtype='<U10')"
      ]
     },
     "execution_count": 7,
     "metadata": {},
     "output_type": "execute_result"
    }
   ],
   "source": [
    "a=np.array([[[[[[[[\"pizza\",\"sweet corn\",\"coffee\",\"lemonade\"]]]]]]]])\n",
    "a"
   ]
  },
  {
   "cell_type": "code",
   "execution_count": 8,
   "id": "4d472053",
   "metadata": {},
   "outputs": [
    {
     "name": "stdout",
     "output_type": "stream",
     "text": [
      "['pizza' 'sweet corn' 'coffee' 'lemonade']\n"
     ]
    }
   ],
   "source": [
    "print(a[0][0][0][0][0][0][0])"
   ]
  },
  {
   "cell_type": "code",
   "execution_count": 9,
   "id": "03ebf51f",
   "metadata": {},
   "outputs": [
    {
     "data": {
      "text/plain": [
       "array([[[[[ 1,  2,  3, 50],\n",
       "          [ 4,  5,  6, 90],\n",
       "          [ 7,  8,  9, 99],\n",
       "          [11, 12,  3, 98]]]]])"
      ]
     },
     "execution_count": 9,
     "metadata": {},
     "output_type": "execute_result"
    }
   ],
   "source": [
    "a=np.array([[[[[1,2,3,50,],[4,5,6,90],[7,8,9,99],[11,12,3,98]]]]])\n",
    "a"
   ]
  },
  {
   "cell_type": "code",
   "execution_count": 10,
   "id": "da9ca666",
   "metadata": {},
   "outputs": [
    {
     "data": {
      "text/plain": [
       "98"
      ]
     },
     "execution_count": 10,
     "metadata": {},
     "output_type": "execute_result"
    }
   ],
   "source": [
    "a[0][0][0][-1][-1]"
   ]
  },
  {
   "cell_type": "code",
   "execution_count": 13,
   "id": "d060fee1",
   "metadata": {},
   "outputs": [
    {
     "data": {
      "text/plain": [
       "array([[[[ 1,  2,  3,  4,  5],\n",
       "         [ 6,  7,  8,  9,  0],\n",
       "         [11, 12, 13, 14, 15],\n",
       "         [16, 17, 18, 19, 20]]]])"
      ]
     },
     "execution_count": 13,
     "metadata": {},
     "output_type": "execute_result"
    }
   ],
   "source": [
    "a=np.array([[[[1,2,3,4,5],[6,7,8,9,0],[11,12,13,14,15],[16,17,18,19,20]]]])\n",
    "a"
   ]
  },
  {
   "cell_type": "code",
   "execution_count": 12,
   "id": "a23fdb4a",
   "metadata": {},
   "outputs": [
    {
     "data": {
      "text/plain": [
       "19"
      ]
     },
     "execution_count": 12,
     "metadata": {},
     "output_type": "execute_result"
    }
   ],
   "source": [
    "a[0][0][-1][-2]"
   ]
  },
  {
   "cell_type": "code",
   "execution_count": 14,
   "id": "0174f815",
   "metadata": {},
   "outputs": [
    {
     "data": {
      "text/plain": [
       "array([13, 15])"
      ]
     },
     "execution_count": 14,
     "metadata": {},
     "output_type": "execute_result"
    }
   ],
   "source": [
    "a[0][0][2][2:5:2]"
   ]
  },
  {
   "cell_type": "code",
   "execution_count": 15,
   "id": "8ed7f6e2",
   "metadata": {},
   "outputs": [
    {
     "data": {
      "text/plain": [
       "array([[[ 1,  2,  3],\n",
       "        [ 4,  5,  6]],\n",
       "\n",
       "       [[ 7,  8,  9],\n",
       "        [10, 11, 12]]])"
      ]
     },
     "execution_count": 15,
     "metadata": {},
     "output_type": "execute_result"
    }
   ],
   "source": [
    "arr = np.array([[[1, 2, 3], [4, 5, 6]], [[7, 8, 9], [10, 11, 12]]])\n",
    "arr"
   ]
  },
  {
   "cell_type": "code",
   "execution_count": 16,
   "id": "11aa1db7",
   "metadata": {},
   "outputs": [
    {
     "data": {
      "text/plain": [
       "array([7, 8, 9])"
      ]
     },
     "execution_count": 16,
     "metadata": {},
     "output_type": "execute_result"
    }
   ],
   "source": [
    "arr[1][0]"
   ]
  },
  {
   "cell_type": "code",
   "execution_count": 17,
   "id": "0e7bd1c1",
   "metadata": {},
   "outputs": [
    {
     "data": {
      "text/plain": [
       "array([[ 8,  9],\n",
       "       [11, 12]])"
      ]
     },
     "execution_count": 17,
     "metadata": {},
     "output_type": "execute_result"
    }
   ],
   "source": [
    "arr[1][:,1:] # 8,9,11,12 or # 11,12"
   ]
  },
  {
   "cell_type": "markdown",
   "id": "9fcc17db",
   "metadata": {},
   "source": [
    "## Indexing With Boolean (Important From EDA Point OF View)"
   ]
  },
  {
   "cell_type": "code",
   "execution_count": 19,
   "id": "db404ce9",
   "metadata": {},
   "outputs": [
    {
     "data": {
      "text/plain": [
       "array([[ 20,  30,  60],\n",
       "       [ 40,  80,  90],\n",
       "       [ 70,  90, 100]])"
      ]
     },
     "execution_count": 19,
     "metadata": {},
     "output_type": "execute_result"
    }
   ],
   "source": [
    "a=np.array([[20,30,60],[40,80,90],[70,90,100]])\n",
    "a"
   ]
  },
  {
   "cell_type": "code",
   "execution_count": 20,
   "id": "c0a443db",
   "metadata": {},
   "outputs": [
    {
     "data": {
      "text/plain": [
       "array([[ True,  True, False],\n",
       "       [False, False, False],\n",
       "       [False, False, False]])"
      ]
     },
     "execution_count": 20,
     "metadata": {},
     "output_type": "execute_result"
    }
   ],
   "source": [
    "z=a<40\n",
    "z"
   ]
  },
  {
   "cell_type": "code",
   "execution_count": 21,
   "id": "e6a02e6a",
   "metadata": {},
   "outputs": [
    {
     "data": {
      "text/plain": [
       "array([20, 30])"
      ]
     },
     "execution_count": 21,
     "metadata": {},
     "output_type": "execute_result"
    }
   ],
   "source": [
    "a[z]"
   ]
  },
  {
   "cell_type": "markdown",
   "id": "4897e238",
   "metadata": {},
   "source": [
    "## np.where returns index"
   ]
  },
  {
   "cell_type": "code",
   "execution_count": 23,
   "id": "5f227c0c",
   "metadata": {},
   "outputs": [
    {
     "data": {
      "text/plain": [
       "[array([['85', '85', 'Nothing'],\n",
       "        ['Nothing', 'Nothing', 'Nothing'],\n",
       "        ['Nothing', 'Nothing', 'Nothing']], dtype='<U11')]"
      ]
     },
     "execution_count": 23,
     "metadata": {},
     "output_type": "execute_result"
    }
   ],
   "source": [
    "[np.where(a<40,85,\"Nothing\")]"
   ]
  },
  {
   "cell_type": "code",
   "execution_count": 24,
   "id": "208256e2",
   "metadata": {},
   "outputs": [
    {
     "name": "stdout",
     "output_type": "stream",
     "text": [
      "[ 60  80  90  70  90 100]\n"
     ]
    }
   ],
   "source": [
    "## greater than 40 and also even\n",
    "print(a[(a%2==0)&(a>40)])"
   ]
  },
  {
   "cell_type": "code",
   "execution_count": 26,
   "id": "f202898f",
   "metadata": {},
   "outputs": [
    {
     "name": "stdout",
     "output_type": "stream",
     "text": [
      "[ 3 50]\n",
      "[60 90]\n",
      "[ 3 90]\n"
     ]
    }
   ],
   "source": [
    "a=[[[[2,3,4,5],[40,50,60,90]]]]\n",
    "a\n",
    "m=np.array(a)\n",
    "m\n",
    "print(m[0][0][:,1])\n",
    "print(m[0][0][1,2:])\n",
    "print(m[0][0][[0,1],[1,3]])"
   ]
  },
  {
   "cell_type": "code",
   "execution_count": 27,
   "id": "d6285d20",
   "metadata": {},
   "outputs": [
    {
     "data": {
      "text/plain": [
       "array([ 4, 60])"
      ]
     },
     "execution_count": 27,
     "metadata": {},
     "output_type": "execute_result"
    }
   ],
   "source": [
    "m[0][0][:,2]"
   ]
  },
  {
   "cell_type": "code",
   "execution_count": null,
   "id": "db4b12a8",
   "metadata": {},
   "outputs": [],
   "source": []
  }
 ],
 "metadata": {
  "kernelspec": {
   "display_name": "Python 3 (ipykernel)",
   "language": "python",
   "name": "python3"
  },
  "language_info": {
   "codemirror_mode": {
    "name": "ipython",
    "version": 3
   },
   "file_extension": ".py",
   "mimetype": "text/x-python",
   "name": "python",
   "nbconvert_exporter": "python",
   "pygments_lexer": "ipython3",
   "version": "3.9.12"
  }
 },
 "nbformat": 4,
 "nbformat_minor": 5
}

{
 "cells": [
  {
   "cell_type": "markdown",
   "id": "ea5b320f",
   "metadata": {},
   "source": [
    "## Arithmetic Operations on Arrays"
   ]
  },
  {
   "cell_type": "code",
   "execution_count": 2,
   "id": "f03e5989",
   "metadata": {},
   "outputs": [],
   "source": [
    "import numpy as np"
   ]
  },
  {
   "cell_type": "code",
   "execution_count": 3,
   "id": "1b3d66e2",
   "metadata": {},
   "outputs": [
    {
     "data": {
      "text/plain": [
       "array([[ 3, 20,  5,  4],\n",
       "       [ 3,  4, 50,  6],\n",
       "       [ 7,  8,  7,  9]])"
      ]
     },
     "execution_count": 3,
     "metadata": {},
     "output_type": "execute_result"
    }
   ],
   "source": [
    "a1=np.array([[1,2,3,4],[3,4,5,6],[7,8,9,3]])\n",
    "a1\n",
    "\n",
    "a2=np.array([[3,20,5,4],[3,4,50,6],[7,8,7,9]])\n",
    "a2"
   ]
  },
  {
   "cell_type": "code",
   "execution_count": 4,
   "id": "e8d3f368",
   "metadata": {},
   "outputs": [
    {
     "data": {
      "text/plain": [
       "array([[ 4, 22,  8,  8],\n",
       "       [ 6,  8, 55, 12],\n",
       "       [14, 16, 16, 12]])"
      ]
     },
     "execution_count": 4,
     "metadata": {},
     "output_type": "execute_result"
    }
   ],
   "source": [
    "a1+a2"
   ]
  },
  {
   "cell_type": "code",
   "execution_count": 5,
   "id": "0e7074c2",
   "metadata": {},
   "outputs": [
    {
     "data": {
      "text/plain": [
       "array([[ -2, -18,  -2,   0],\n",
       "       [  0,   0, -45,   0],\n",
       "       [  0,   0,   2,  -6]])"
      ]
     },
     "execution_count": 5,
     "metadata": {},
     "output_type": "execute_result"
    }
   ],
   "source": [
    "a1-a2"
   ]
  },
  {
   "cell_type": "code",
   "execution_count": 6,
   "id": "eef72be1",
   "metadata": {},
   "outputs": [
    {
     "data": {
      "text/plain": [
       "array([[  3,  40,  15,  16],\n",
       "       [  9,  16, 250,  36],\n",
       "       [ 49,  64,  63,  27]])"
      ]
     },
     "execution_count": 6,
     "metadata": {},
     "output_type": "execute_result"
    }
   ],
   "source": [
    "a1*a2"
   ]
  },
  {
   "cell_type": "code",
   "execution_count": 7,
   "id": "171b6611",
   "metadata": {},
   "outputs": [
    {
     "data": {
      "text/plain": [
       "array([[0.33333333, 0.1       , 0.6       , 1.        ],\n",
       "       [1.        , 1.        , 0.1       , 1.        ],\n",
       "       [1.        , 1.        , 1.28571429, 0.33333333]])"
      ]
     },
     "execution_count": 7,
     "metadata": {},
     "output_type": "execute_result"
    }
   ],
   "source": [
    "a1/a2"
   ]
  },
  {
   "cell_type": "code",
   "execution_count": 8,
   "id": "57787cac",
   "metadata": {},
   "outputs": [
    {
     "data": {
      "text/plain": [
       "array([[1, 2, 3, 0],\n",
       "       [0, 0, 5, 0],\n",
       "       [0, 0, 2, 3]], dtype=int32)"
      ]
     },
     "execution_count": 8,
     "metadata": {},
     "output_type": "execute_result"
    }
   ],
   "source": [
    "a1%a2"
   ]
  },
  {
   "cell_type": "code",
   "execution_count": 9,
   "id": "17abea6b",
   "metadata": {},
   "outputs": [
    {
     "data": {
      "text/plain": [
       "array([[0, 0, 0, 1],\n",
       "       [1, 1, 0, 1],\n",
       "       [1, 1, 1, 0]], dtype=int32)"
      ]
     },
     "execution_count": 9,
     "metadata": {},
     "output_type": "execute_result"
    }
   ],
   "source": [
    "a1//a2"
   ]
  },
  {
   "cell_type": "code",
   "execution_count": 10,
   "id": "cdf019e9",
   "metadata": {},
   "outputs": [
    {
     "data": {
      "text/plain": [
       "array([[ True,  True,  True, False],\n",
       "       [False, False,  True, False],\n",
       "       [False, False, False,  True]])"
      ]
     },
     "execution_count": 10,
     "metadata": {},
     "output_type": "execute_result"
    }
   ],
   "source": [
    "a1<a2"
   ]
  },
  {
   "cell_type": "code",
   "execution_count": 11,
   "id": "b7913626",
   "metadata": {},
   "outputs": [
    {
     "data": {
      "text/plain": [
       "array([[False, False,  True,  True],\n",
       "       [ True,  True,  True,  True],\n",
       "       [ True,  True,  True,  True]])"
      ]
     },
     "execution_count": 11,
     "metadata": {},
     "output_type": "execute_result"
    }
   ],
   "source": [
    "a1>2"
   ]
  },
  {
   "cell_type": "code",
   "execution_count": 12,
   "id": "c2e71163",
   "metadata": {},
   "outputs": [
    {
     "data": {
      "text/plain": [
       "[[4, 9, 16, 36]]"
      ]
     },
     "execution_count": 12,
     "metadata": {},
     "output_type": "execute_result"
    }
   ],
   "source": [
    "a1 = [[4,9,16,36]]\n",
    "a1"
   ]
  },
  {
   "cell_type": "code",
   "execution_count": 13,
   "id": "40b39964",
   "metadata": {},
   "outputs": [
    {
     "data": {
      "text/plain": [
       "array([[2., 3., 4., 6.]])"
      ]
     },
     "execution_count": 13,
     "metadata": {},
     "output_type": "execute_result"
    }
   ],
   "source": [
    "np.sqrt(a1)\n"
   ]
  },
  {
   "cell_type": "code",
   "execution_count": 14,
   "id": "59d7e00c",
   "metadata": {},
   "outputs": [
    {
     "data": {
      "text/plain": [
       "array([[-0.7568025 ,  0.41211849, -0.28790332, -0.99177885]])"
      ]
     },
     "execution_count": 14,
     "metadata": {},
     "output_type": "execute_result"
    }
   ],
   "source": [
    "np.sin(a1)"
   ]
  },
  {
   "cell_type": "code",
   "execution_count": 15,
   "id": "1ed262ab",
   "metadata": {},
   "outputs": [
    {
     "data": {
      "text/plain": [
       "2"
      ]
     },
     "execution_count": 15,
     "metadata": {},
     "output_type": "execute_result"
    }
   ],
   "source": [
    "import math\n",
    "a = 2.3\n",
    "math.floor(a)"
   ]
  },
  {
   "cell_type": "code",
   "execution_count": 16,
   "id": "5e6afa89",
   "metadata": {},
   "outputs": [
    {
     "data": {
      "text/plain": [
       "-3"
      ]
     },
     "execution_count": 16,
     "metadata": {},
     "output_type": "execute_result"
    }
   ],
   "source": [
    "a = -3.4\n",
    "math.ceil(a)"
   ]
  },
  {
   "cell_type": "code",
   "execution_count": 17,
   "id": "8584d428",
   "metadata": {},
   "outputs": [
    {
     "data": {
      "text/plain": [
       "24"
      ]
     },
     "execution_count": 17,
     "metadata": {},
     "output_type": "execute_result"
    }
   ],
   "source": [
    "round(23.56789)"
   ]
  },
  {
   "cell_type": "code",
   "execution_count": 18,
   "id": "a616adc2",
   "metadata": {},
   "outputs": [
    {
     "data": {
      "text/plain": [
       "array([[ 4.,  9., 16., 36.]])"
      ]
     },
     "execution_count": 18,
     "metadata": {},
     "output_type": "execute_result"
    }
   ],
   "source": [
    "np.ceil(a1)"
   ]
  },
  {
   "cell_type": "code",
   "execution_count": 19,
   "id": "6b4da088",
   "metadata": {},
   "outputs": [
    {
     "data": {
      "text/plain": [
       "array([[ 4.,  9., 16., 36.]])"
      ]
     },
     "execution_count": 19,
     "metadata": {},
     "output_type": "execute_result"
    }
   ],
   "source": [
    "np.floor(a1)"
   ]
  },
  {
   "cell_type": "code",
   "execution_count": 20,
   "id": "dced34fc",
   "metadata": {},
   "outputs": [
    {
     "data": {
      "text/plain": [
       "array([21., -2.,  4.])"
      ]
     },
     "execution_count": 20,
     "metadata": {},
     "output_type": "execute_result"
    }
   ],
   "source": [
    "a1= np.array([20.4,-2.6,3.9])\n",
    "np.ceil(a1)"
   ]
  },
  {
   "cell_type": "code",
   "execution_count": 21,
   "id": "9adf6d49",
   "metadata": {},
   "outputs": [
    {
     "data": {
      "text/plain": [
       "array([20., -3.,  3.])"
      ]
     },
     "execution_count": 21,
     "metadata": {},
     "output_type": "execute_result"
    }
   ],
   "source": [
    "np.floor(a1)"
   ]
  },
  {
   "cell_type": "code",
   "execution_count": 22,
   "id": "2a423824",
   "metadata": {},
   "outputs": [
    {
     "data": {
      "text/plain": [
       "-2.6"
      ]
     },
     "execution_count": 22,
     "metadata": {},
     "output_type": "execute_result"
    }
   ],
   "source": [
    "np.min(a1)"
   ]
  },
  {
   "cell_type": "code",
   "execution_count": 23,
   "id": "c1aee516",
   "metadata": {},
   "outputs": [
    {
     "data": {
      "text/plain": [
       "array([[1, 2, 3, 4],\n",
       "       [3, 4, 5, 6],\n",
       "       [7, 8, 9, 0]])"
      ]
     },
     "execution_count": 23,
     "metadata": {},
     "output_type": "execute_result"
    }
   ],
   "source": [
    "a1=np.array([[1,2,3,4],[3,4,5,6],[7,8,9,0]])\n",
    "a1"
   ]
  },
  {
   "cell_type": "code",
   "execution_count": 24,
   "id": "c4b07701",
   "metadata": {},
   "outputs": [
    {
     "data": {
      "text/plain": [
       "10"
      ]
     },
     "execution_count": 24,
     "metadata": {},
     "output_type": "execute_result"
    }
   ],
   "source": [
    "np.argmax(a1)"
   ]
  },
  {
   "cell_type": "code",
   "execution_count": 25,
   "id": "d90161bf",
   "metadata": {},
   "outputs": [
    {
     "data": {
      "text/plain": [
       "9"
      ]
     },
     "execution_count": 25,
     "metadata": {},
     "output_type": "execute_result"
    }
   ],
   "source": [
    "np.max(a1)"
   ]
  },
  {
   "cell_type": "code",
   "execution_count": 26,
   "id": "7a57bf64",
   "metadata": {},
   "outputs": [
    {
     "data": {
      "text/plain": [
       "array([7, 8, 9, 6])"
      ]
     },
     "execution_count": 26,
     "metadata": {},
     "output_type": "execute_result"
    }
   ],
   "source": [
    "a1.max(axis=0)"
   ]
  },
  {
   "cell_type": "code",
   "execution_count": 27,
   "id": "4e70115e",
   "metadata": {},
   "outputs": [
    {
     "data": {
      "text/plain": [
       "array([4, 6, 9])"
      ]
     },
     "execution_count": 27,
     "metadata": {},
     "output_type": "execute_result"
    }
   ],
   "source": [
    "a1.max(axis=1)"
   ]
  },
  {
   "cell_type": "code",
   "execution_count": 28,
   "id": "a68be20d",
   "metadata": {},
   "outputs": [
    {
     "data": {
      "text/plain": [
       "50"
      ]
     },
     "execution_count": 28,
     "metadata": {},
     "output_type": "execute_result"
    }
   ],
   "source": [
    "a2.max()"
   ]
  },
  {
   "cell_type": "code",
   "execution_count": 29,
   "id": "9fcf393d",
   "metadata": {},
   "outputs": [
    {
     "data": {
      "text/plain": [
       "array([11, 14, 17, 10])"
      ]
     },
     "execution_count": 29,
     "metadata": {},
     "output_type": "execute_result"
    }
   ],
   "source": [
    "a1.sum(axis=0)"
   ]
  },
  {
   "cell_type": "code",
   "execution_count": 30,
   "id": "db95c2b0",
   "metadata": {},
   "outputs": [
    {
     "data": {
      "text/plain": [
       "array([10, 18, 24])"
      ]
     },
     "execution_count": 30,
     "metadata": {},
     "output_type": "execute_result"
    }
   ],
   "source": [
    "a1.sum(axis=1)"
   ]
  },
  {
   "cell_type": "code",
   "execution_count": 31,
   "id": "ce0f723a",
   "metadata": {},
   "outputs": [
    {
     "data": {
      "text/plain": [
       "array([[1, 2, 3, 4],\n",
       "       [3, 4, 5, 6],\n",
       "       [0, 7, 8, 9]])"
      ]
     },
     "execution_count": 31,
     "metadata": {},
     "output_type": "execute_result"
    }
   ],
   "source": [
    "np.sort(a1)"
   ]
  },
  {
   "cell_type": "code",
   "execution_count": 33,
   "id": "ebd4e4d1",
   "metadata": {},
   "outputs": [
    {
     "data": {
      "text/plain": [
       "array([[1, 2, 3, 0],\n",
       "       [3, 4, 5, 4],\n",
       "       [7, 8, 9, 6]])"
      ]
     },
     "execution_count": 33,
     "metadata": {},
     "output_type": "execute_result"
    }
   ],
   "source": [
    "np.sort(a1,axis=0)"
   ]
  },
  {
   "cell_type": "code",
   "execution_count": 34,
   "id": "844b9ed3",
   "metadata": {},
   "outputs": [
    {
     "data": {
      "text/plain": [
       "array([[1, 2, 3, 4],\n",
       "       [3, 4, 5, 6],\n",
       "       [0, 7, 8, 9]])"
      ]
     },
     "execution_count": 34,
     "metadata": {},
     "output_type": "execute_result"
    }
   ],
   "source": [
    "np.sort(a1,axis=1)"
   ]
  },
  {
   "cell_type": "markdown",
   "id": "fdab13c5",
   "metadata": {},
   "source": [
    "### MATRIX"
   ]
  },
  {
   "cell_type": "code",
   "execution_count": 36,
   "id": "c4ac2cfd",
   "metadata": {},
   "outputs": [
    {
     "data": {
      "text/plain": [
       "matrix([[1, 2],\n",
       "        [3, 4]])"
      ]
     },
     "execution_count": 36,
     "metadata": {},
     "output_type": "execute_result"
    }
   ],
   "source": [
    "a=np.mat([[1,2],[3,4]])\n",
    "a"
   ]
  },
  {
   "cell_type": "code",
   "execution_count": 37,
   "id": "9782f922",
   "metadata": {},
   "outputs": [
    {
     "data": {
      "text/plain": [
       "matrix([[1, 2, 3],\n",
       "        [4, 5, 6],\n",
       "        [7, 8, 9]])"
      ]
     },
     "execution_count": 37,
     "metadata": {},
     "output_type": "execute_result"
    }
   ],
   "source": [
    "a= np.mat([[1,2,3],[4,5,6],[7,8,9]])\n",
    "a"
   ]
  },
  {
   "cell_type": "markdown",
   "id": "e3f0a5b6",
   "metadata": {},
   "source": [
    "## - Difference between Matrix and Array\n",
    "## - matrix atmost is 2(dimensional) and Arrays Are N(dimensional)"
   ]
  },
  {
   "cell_type": "code",
   "execution_count": 38,
   "id": "7b4da87d",
   "metadata": {},
   "outputs": [
    {
     "ename": "ValueError",
     "evalue": "matrix must be 2-dimensional",
     "output_type": "error",
     "traceback": [
      "\u001b[1;31m---------------------------------------------------------------------------\u001b[0m",
      "\u001b[1;31mValueError\u001b[0m                                Traceback (most recent call last)",
      "Input \u001b[1;32mIn [38]\u001b[0m, in \u001b[0;36m<cell line: 1>\u001b[1;34m()\u001b[0m\n\u001b[1;32m----> 1\u001b[0m a\u001b[38;5;241m=\u001b[39m \u001b[43mnp\u001b[49m\u001b[38;5;241;43m.\u001b[39;49m\u001b[43mmat\u001b[49m\u001b[43m(\u001b[49m\u001b[43m[\u001b[49m\u001b[43m[\u001b[49m\u001b[43m[\u001b[49m\u001b[38;5;241;43m1\u001b[39;49m\u001b[43m,\u001b[49m\u001b[38;5;241;43m2\u001b[39;49m\u001b[43m,\u001b[49m\u001b[38;5;241;43m3\u001b[39;49m\u001b[43m]\u001b[49m\u001b[43m,\u001b[49m\u001b[43m[\u001b[49m\u001b[38;5;241;43m4\u001b[39;49m\u001b[43m,\u001b[49m\u001b[38;5;241;43m5\u001b[39;49m\u001b[43m,\u001b[49m\u001b[38;5;241;43m6\u001b[39;49m\u001b[43m]\u001b[49m\u001b[43m,\u001b[49m\u001b[43m[\u001b[49m\u001b[38;5;241;43m7\u001b[39;49m\u001b[43m,\u001b[49m\u001b[38;5;241;43m8\u001b[39;49m\u001b[43m,\u001b[49m\u001b[38;5;241;43m9\u001b[39;49m\u001b[43m]\u001b[49m\u001b[43m]\u001b[49m\u001b[43m]\u001b[49m\u001b[43m)\u001b[49m\n\u001b[0;32m      2\u001b[0m a\n",
      "File \u001b[1;32m~\\anaconda3\\lib\\site-packages\\numpy\\matrixlib\\defmatrix.py:69\u001b[0m, in \u001b[0;36masmatrix\u001b[1;34m(data, dtype)\u001b[0m\n\u001b[0;32m     36\u001b[0m \u001b[38;5;129m@set_module\u001b[39m(\u001b[38;5;124m'\u001b[39m\u001b[38;5;124mnumpy\u001b[39m\u001b[38;5;124m'\u001b[39m)\n\u001b[0;32m     37\u001b[0m \u001b[38;5;28;01mdef\u001b[39;00m \u001b[38;5;21masmatrix\u001b[39m(data, dtype\u001b[38;5;241m=\u001b[39m\u001b[38;5;28;01mNone\u001b[39;00m):\n\u001b[0;32m     38\u001b[0m     \u001b[38;5;124;03m\"\"\"\u001b[39;00m\n\u001b[0;32m     39\u001b[0m \u001b[38;5;124;03m    Interpret the input as a matrix.\u001b[39;00m\n\u001b[0;32m     40\u001b[0m \n\u001b[1;32m   (...)\u001b[0m\n\u001b[0;32m     67\u001b[0m \n\u001b[0;32m     68\u001b[0m \u001b[38;5;124;03m    \"\"\"\u001b[39;00m\n\u001b[1;32m---> 69\u001b[0m     \u001b[38;5;28;01mreturn\u001b[39;00m \u001b[43mmatrix\u001b[49m\u001b[43m(\u001b[49m\u001b[43mdata\u001b[49m\u001b[43m,\u001b[49m\u001b[43m \u001b[49m\u001b[43mdtype\u001b[49m\u001b[38;5;241;43m=\u001b[39;49m\u001b[43mdtype\u001b[49m\u001b[43m,\u001b[49m\u001b[43m \u001b[49m\u001b[43mcopy\u001b[49m\u001b[38;5;241;43m=\u001b[39;49m\u001b[38;5;28;43;01mFalse\u001b[39;49;00m\u001b[43m)\u001b[49m\n",
      "File \u001b[1;32m~\\anaconda3\\lib\\site-packages\\numpy\\matrixlib\\defmatrix.py:149\u001b[0m, in \u001b[0;36mmatrix.__new__\u001b[1;34m(subtype, data, dtype, copy)\u001b[0m\n\u001b[0;32m    147\u001b[0m shape \u001b[38;5;241m=\u001b[39m arr\u001b[38;5;241m.\u001b[39mshape\n\u001b[0;32m    148\u001b[0m \u001b[38;5;28;01mif\u001b[39;00m (ndim \u001b[38;5;241m>\u001b[39m \u001b[38;5;241m2\u001b[39m):\n\u001b[1;32m--> 149\u001b[0m     \u001b[38;5;28;01mraise\u001b[39;00m \u001b[38;5;167;01mValueError\u001b[39;00m(\u001b[38;5;124m\"\u001b[39m\u001b[38;5;124mmatrix must be 2-dimensional\u001b[39m\u001b[38;5;124m\"\u001b[39m)\n\u001b[0;32m    150\u001b[0m \u001b[38;5;28;01melif\u001b[39;00m ndim \u001b[38;5;241m==\u001b[39m \u001b[38;5;241m0\u001b[39m:\n\u001b[0;32m    151\u001b[0m     shape \u001b[38;5;241m=\u001b[39m (\u001b[38;5;241m1\u001b[39m, \u001b[38;5;241m1\u001b[39m)\n",
      "\u001b[1;31mValueError\u001b[0m: matrix must be 2-dimensional"
     ]
    }
   ],
   "source": [
    "a= np.mat([[[1,2,3],[4,5,6],[7,8,9]]])\n",
    "a  ## ValueError(\"matrix must be 2-dimensional\")"
   ]
  },
  {
   "cell_type": "markdown",
   "id": "e0e33c92",
   "metadata": {},
   "source": [
    "## Difference of matrix and Array Product"
   ]
  },
  {
   "cell_type": "code",
   "execution_count": 39,
   "id": "9e92d8b5",
   "metadata": {},
   "outputs": [
    {
     "data": {
      "text/plain": [
       "array([[ 3,  8],\n",
       "       [24, 36]])"
      ]
     },
     "execution_count": 39,
     "metadata": {},
     "output_type": "execute_result"
    }
   ],
   "source": [
    "m1=np.array([[1,2],[3,4]])\n",
    "m2=np.array([[3,4],[8,9]])\n",
    "m1*m2 "
   ]
  },
  {
   "cell_type": "code",
   "execution_count": 40,
   "id": "3188d695",
   "metadata": {},
   "outputs": [
    {
     "data": {
      "text/plain": [
       "matrix([[19, 22],\n",
       "        [41, 48]])"
      ]
     },
     "execution_count": 40,
     "metadata": {},
     "output_type": "execute_result"
    }
   ],
   "source": [
    "m1=np.mat([[1,2],[3,4]])\n",
    "m2=np.mat([[3,4],[8,9]])\n",
    "m1*m2 "
   ]
  },
  {
   "cell_type": "code",
   "execution_count": 48,
   "id": "71c2e20d",
   "metadata": {},
   "outputs": [
    {
     "name": "stdout",
     "output_type": "stream",
     "text": [
      "[[1 3]\n",
      " [2 4]]\n",
      "[[1 2]\n",
      " [3 4]]\n"
     ]
    }
   ],
   "source": [
    "m1=np.mat([[1,2],[3,4]])  ## Transpose- two ways of transposing by using .T or np.transpose\n",
    "print(m1.T)\n",
    "print(m1)"
   ]
  },
  {
   "cell_type": "code",
   "execution_count": 46,
   "id": "7c9d597d",
   "metadata": {},
   "outputs": [
    {
     "data": {
      "text/plain": [
       "matrix([[1, 3],\n",
       "        [2, 4]])"
      ]
     },
     "execution_count": 46,
     "metadata": {},
     "output_type": "execute_result"
    }
   ],
   "source": [
    "m1.transpose()"
   ]
  },
  {
   "cell_type": "markdown",
   "id": "41a5f309",
   "metadata": {},
   "source": [
    "## Trace"
   ]
  },
  {
   "cell_type": "code",
   "execution_count": 51,
   "id": "78cd59d8",
   "metadata": {},
   "outputs": [
    {
     "data": {
      "text/plain": [
       "matrix([[12]])"
      ]
     },
     "execution_count": 51,
     "metadata": {},
     "output_type": "execute_result"
    }
   ],
   "source": [
    "m2.trace()"
   ]
  },
  {
   "cell_type": "markdown",
   "id": "c882c3df",
   "metadata": {},
   "source": [
    "## inverse"
   ]
  },
  {
   "cell_type": "code",
   "execution_count": 52,
   "id": "405c5d2b",
   "metadata": {},
   "outputs": [
    {
     "name": "stdout",
     "output_type": "stream",
     "text": [
      "(2, 2)\n",
      "(2, 2)\n"
     ]
    },
    {
     "data": {
      "text/plain": [
       "matrix([[-2. ,  1. ],\n",
       "        [ 1.5, -0.5]])"
      ]
     },
     "execution_count": 52,
     "metadata": {},
     "output_type": "execute_result"
    }
   ],
   "source": [
    "a=np.array([[1,2],[3,4]])  \n",
    "d=np.matrix([[1,2],[3,4]])\n",
    "print(a.shape)\n",
    "print(d.shape)\n",
    "np.linalg.inv(d)"
   ]
  },
  {
   "cell_type": "markdown",
   "id": "7d067fa8",
   "metadata": {},
   "source": [
    "## Broadcasting"
   ]
  },
  {
   "cell_type": "code",
   "execution_count": 55,
   "id": "c2f3a853",
   "metadata": {},
   "outputs": [
    {
     "name": "stdout",
     "output_type": "stream",
     "text": [
      "[[ 0  2  4  6]\n",
      " [ 8 10 12 14]]\n",
      "[[ 0  4  8]\n",
      " [12 16 20]\n",
      " [24 28 32]]\n"
     ]
    }
   ],
   "source": [
    "# case 1 When Shape Is Same\n",
    "a = np.arange(8).reshape(2,4)\n",
    "a1 = np.arange(8).reshape(2,4)\n",
    "print(a+a1)\n",
    "\n",
    "# Case 2 When Shape Is Different \n",
    "a1=np.arange(9).reshape(3,3)\n",
    "print(a1*4) ## Effect of Broadcast\n"
   ]
  },
  {
   "cell_type": "code",
   "execution_count": 56,
   "id": "43fcc81f",
   "metadata": {},
   "outputs": [
    {
     "name": "stdout",
     "output_type": "stream",
     "text": [
      "[[ 0  1  2]\n",
      " [ 3  4  5]\n",
      " [ 6  7  8]\n",
      " [ 9 10 11]]\n",
      "[[0 1 2]\n",
      " [3 4 5]\n",
      " [6 7 8]]\n"
     ]
    },
    {
     "ename": "ValueError",
     "evalue": "operands could not be broadcast together with shapes (3,3) (4,3) ",
     "output_type": "error",
     "traceback": [
      "\u001b[1;31m---------------------------------------------------------------------------\u001b[0m",
      "\u001b[1;31mValueError\u001b[0m                                Traceback (most recent call last)",
      "Input \u001b[1;32mIn [56]\u001b[0m, in \u001b[0;36m<cell line: 6>\u001b[1;34m()\u001b[0m\n\u001b[0;32m      4\u001b[0m \u001b[38;5;28mprint\u001b[39m(a2)\n\u001b[0;32m      5\u001b[0m \u001b[38;5;28mprint\u001b[39m(a1)\n\u001b[1;32m----> 6\u001b[0m \u001b[38;5;28mprint\u001b[39m(\u001b[43ma1\u001b[49m\u001b[38;5;241;43m+\u001b[39;49m\u001b[43ma2\u001b[49m)\n",
      "\u001b[1;31mValueError\u001b[0m: operands could not be broadcast together with shapes (3,3) (4,3) "
     ]
    }
   ],
   "source": [
    "# Case 2.2 When shape is different\n",
    "## Conditions Must Be met For  Broadcasting Which Is - One Of The Dimension Is Of Size 1 or It Will raise Error\n",
    "a2= np.arange(12).reshape(4,3)\n",
    "print(a2)\n",
    "print(a1)\n",
    "print(a1+a2)"
   ]
  },
  {
   "cell_type": "markdown",
   "id": "3ad515fa",
   "metadata": {},
   "source": [
    "## How To Generate Random Values in Arrays Or in Python Numpy \n",
    "## to generate a fixed random value we use seed"
   ]
  },
  {
   "cell_type": "code",
   "execution_count": 57,
   "id": "8a3d28a1",
   "metadata": {},
   "outputs": [
    {
     "data": {
      "text/plain": [
       "0.9151127676422295"
      ]
     },
     "execution_count": 57,
     "metadata": {},
     "output_type": "execute_result"
    }
   ],
   "source": [
    "import numpy as np\n",
    "a=np.random.random()\n",
    "a"
   ]
  },
  {
   "cell_type": "code",
   "execution_count": 66,
   "id": "16075082",
   "metadata": {},
   "outputs": [
    {
     "data": {
      "text/plain": [
       "0.9670298390136767"
      ]
     },
     "execution_count": 66,
     "metadata": {},
     "output_type": "execute_result"
    }
   ],
   "source": [
    "a=np.random.seed(4)\n",
    "a=np.random.random()\n",
    "a"
   ]
  },
  {
   "cell_type": "markdown",
   "id": "18b6477c",
   "metadata": {},
   "source": [
    "## Generating single random value with a given range"
   ]
  },
  {
   "cell_type": "code",
   "execution_count": 70,
   "id": "5f3b3ccb",
   "metadata": {},
   "outputs": [
    {
     "data": {
      "text/plain": [
       "9.850606094577815"
      ]
     },
     "execution_count": 70,
     "metadata": {},
     "output_type": "execute_result"
    }
   ],
   "source": [
    "np.random.uniform(1,10)"
   ]
  },
  {
   "cell_type": "markdown",
   "id": "bd8d4362",
   "metadata": {},
   "source": [
    "## Generating single random value with a given range"
   ]
  },
  {
   "cell_type": "code",
   "execution_count": 71,
   "id": "f910e4c1",
   "metadata": {},
   "outputs": [
    {
     "data": {
      "text/plain": [
       "array([17.2203819 , 60.13606045,  1.88962367, 39.27055698,  5.37184574,\n",
       "       95.7086438 , 44.17851804, 94.94875337, 78.84429261, 86.76264056])"
      ]
     },
     "execution_count": 71,
     "metadata": {},
     "output_type": "execute_result"
    }
   ],
   "source": [
    "np.random.uniform(1,100,10)"
   ]
  },
  {
   "cell_type": "markdown",
   "id": "08ce8446",
   "metadata": {},
   "source": [
    "## Generate Random Values of Certain Dimensions"
   ]
  },
  {
   "cell_type": "code",
   "execution_count": 74,
   "id": "62a0177c",
   "metadata": {},
   "outputs": [
    {
     "data": {
      "text/plain": [
       "array([[38.18200109, 50.75077287],\n",
       "       [68.98004091, 26.11428522],\n",
       "       [55.91934543, 62.86815356],\n",
       "       [89.65461544, 36.92250525],\n",
       "       [64.11815023, 19.95319381]])"
      ]
     },
     "execution_count": 74,
     "metadata": {},
     "output_type": "execute_result"
    }
   ],
   "source": [
    "np.random.uniform(1,100,10).reshape(5,2)"
   ]
  },
  {
   "cell_type": "markdown",
   "id": "9896ffee",
   "metadata": {},
   "source": [
    "## To Generate Random Numbers In Integer We Use randint"
   ]
  },
  {
   "cell_type": "code",
   "execution_count": 82,
   "id": "4ece4d97",
   "metadata": {},
   "outputs": [
    {
     "data": {
      "text/plain": [
       "array([84, 30, 90, 17, 61, 20, 51, 96, 25, 51])"
      ]
     },
     "execution_count": 82,
     "metadata": {},
     "output_type": "execute_result"
    }
   ],
   "source": [
    "a=np.random.randint(10,100,10)\n",
    "a"
   ]
  },
  {
   "cell_type": "code",
   "execution_count": 83,
   "id": "5c09d55a",
   "metadata": {},
   "outputs": [
    {
     "data": {
      "text/plain": [
       "array([ 5.69883964, 18.08962027,  7.74049881,  3.8282838 , 13.48336712,\n",
       "        9.29915789, 10.19441203, 10.75458481, 10.83725395,  8.50222033,\n",
       "       13.81879439, 12.09299065,  8.01672592,  9.31414156,  6.2225256 ,\n",
       "       11.1234587 , 12.95298845, 12.60301292, 12.45896252,  9.49372562,\n",
       "       16.31549699,  9.17127329, 10.12026833,  8.65528064, 10.32505508,\n",
       "        9.03790329, 18.1287173 , 11.70338685,  3.26814044,  8.26445448,\n",
       "        4.33508988, 13.51959598, 15.49837293,  8.19582836, 12.45413051,\n",
       "        9.15937375, 11.63223266, 16.92959402,  8.60220817,  5.06745271,\n",
       "       12.87309756, 12.06623853, 12.69520597, 14.10581988,  7.27540628,\n",
       "        2.13594112, 14.16362547,  8.36539875,  5.17039816,  5.32683887,\n",
       "       14.51349333, 10.72333325, 11.21160814, 13.40154748,  7.29239622,\n",
       "        5.49954164,  6.58819488,  5.58170154,  8.83561681,  6.43609707,\n",
       "       10.15454085,  8.07660343,  9.68008204, 12.59916134, 15.60510758,\n",
       "       16.22375166, 10.45968872, 10.84948115,  7.96647909, 14.02392797,\n",
       "       16.12716345,  7.62559279, 13.05642266,  8.68173384,  9.31554002,\n",
       "       10.73713903,  8.39529273, 13.58041751,  4.01659054,  7.21841236,\n",
       "        9.52235423,  5.82070518, 11.44255194,  3.9403828 , 10.22071028,\n",
       "        4.23894049,  9.41901305, 12.0322932 , 18.81425607, 14.31053732,\n",
       "       16.46896484, 10.27188877, 18.46294336,  9.0349653 ,  8.99120997,\n",
       "        4.87166869, 10.88900699, 14.21440162,  7.46456743,  8.51759124,\n",
       "        8.14582012,  8.67418978,  7.63846645,  4.5998411 , 15.52387252,\n",
       "        2.11298769,  6.29167122, 11.3749658 , 14.04624697,  9.16559675,\n",
       "        8.86701484, 10.19790617,  8.95475183, 13.50696993,  8.06848526,\n",
       "        6.05832616,  8.10934874, 10.38507178, 14.91685358, 16.39951006,\n",
       "        8.40234289,  4.14326575,  4.46453488, 18.50128861,  8.38852088,\n",
       "       11.83162487, 17.66913941,  7.27953504,  9.22170403,  7.67761931,\n",
       "        5.61633599, 13.19902215, 14.26279908,  2.50504625, 13.92684265,\n",
       "        9.05613153, 10.73450527, 10.79147601,  4.77384531,  8.75651634,\n",
       "        6.03634712, 17.66100629, 18.7433926 , 10.33613357,  5.28417592,\n",
       "       14.62422425,  9.23999266, 16.98177803, 17.87487755, 16.69162571,\n",
       "        8.4189622 ,  6.00770085,  7.34779997,  9.61461905,  6.30477066,\n",
       "       14.77347404, 12.62985664,  9.86413886,  8.39842806, 12.59725792,\n",
       "       15.51367822,  2.28081862, 10.93549436,  8.79813877,  7.0230812 ,\n",
       "        8.63497602, 10.5380685 , 17.47826208, 10.22822865,  8.28093298,\n",
       "        5.09123941, 13.09599703,  6.99251697,  9.54501968, 12.8523472 ,\n",
       "       10.20948241,  8.45508544,  9.30912055, 13.59339607,  9.92145512,\n",
       "       10.97069279, 11.69139387,  8.66184258, 11.31175645,  8.89276337,\n",
       "       14.53537329, 12.00724101,  3.07864824,  9.17058425, 14.4366983 ,\n",
       "        9.14853639,  8.30993031, 13.97473513,  5.66949529, 10.26013957,\n",
       "       12.36065268, 13.4077105 ,  5.86659932,  5.01515165, 15.978228  ,\n",
       "        6.88631272,  9.64046235, 19.72489601,  8.13900507,  1.19174169,\n",
       "       21.14721437, 14.05031735, 11.43516331, 21.10853871,  9.69893698,\n",
       "       15.78373145, 10.04983991,  8.89742153, 12.53005785, 13.53755127,\n",
       "       15.12946947, 14.77806504,  8.0051171 ,  9.67704155, 17.75148561,\n",
       "       12.43534888, 10.39015598, 15.38971648, 15.6006432 , 15.15991488,\n",
       "        7.81526005,  8.46085344, 13.00853744, 14.76946011,  5.21975176,\n",
       "        8.17990594,  9.08124125, 14.02898846,  5.66798943, 20.81985371,\n",
       "       10.36021623, 12.48033325, 18.91946001, 12.51668839, 13.02056615,\n",
       "        9.31232938, 11.90118953,  5.80205228,  9.72181472, 10.17648268,\n",
       "        6.06811612, 14.05420026, 11.83832712,  2.58826178, 13.18809254,\n",
       "        6.32903582, 12.36035531,  6.82635163,  8.60009386, 11.70988968,\n",
       "       17.79181417,  3.9909302 ,  8.65161941,  8.67155637, 14.40985235,\n",
       "        9.05709999, 11.70353287, 15.36704028, 13.1018715 ,  8.37327607,\n",
       "        8.30777504,  8.97384847, 10.6614418 ,  6.61276548,  9.82421866,\n",
       "       12.34733038,  8.17072833,  8.13106723, 11.18145267, 13.23641463,\n",
       "        4.68150974,  6.09699698, 15.17006853,  9.93959134,  5.63131354,\n",
       "       10.50859479, 16.35714314,  7.55771611,  6.18537019,  9.02454088,\n",
       "       16.38837589,  7.39263909, 12.13461126, 14.03195458, 12.48888736,\n",
       "        8.64228226, 12.6085023 , 10.67541128, 13.24887235, 11.57024245,\n",
       "       10.57537267,  3.07910922, 12.58166291,  9.54599156,  1.71433328,\n",
       "        9.82991014, 11.18521993,  9.52780536,  0.25316324,  7.10767407,\n",
       "        6.15354425,  8.73480086,  0.82834779, 11.12882665, 12.13426917,\n",
       "       12.29845027,  9.78807162,  9.60884189, 14.02459993, 11.81729144,\n",
       "        8.34210493, 11.2023998 , 12.78037049, 14.8020352 , 11.8866433 ,\n",
       "        6.89434699,  8.07022685, 10.90155341, 11.24679034, 14.08415149,\n",
       "        2.54467675,  7.18519067,  5.45983994, 14.33346112, 13.09596273,\n",
       "       11.36305148, 13.2564035 ,  7.78650858, 12.13494042, 10.29528851,\n",
       "       10.42459668,  9.56026705, 13.84741332, 14.28250526,  4.3788622 ,\n",
       "        7.96177528, 10.37908289, 12.32738992,  3.65879654,  6.37704287,\n",
       "        8.81770102, 16.98569912,  6.5933571 ,  8.48065772,  9.91237372,\n",
       "        9.62370453, 10.64741645,  9.91642484,  9.28325582, 11.15498566,\n",
       "       11.12299001, 11.52912418, 11.61877352,  5.40140462, 10.72542852,\n",
       "       10.63548257, 13.13190225, 12.77393447, 16.1907396 ,  6.8773827 ,\n",
       "        9.51850984, 10.89678899,  7.54422067,  8.97668679,  8.58289721,\n",
       "        8.15621171, 19.078288  ,  9.75117563, 15.89714131,  6.66910624,\n",
       "       11.17679205,  7.55438894, 11.40903092, 16.67891594, 17.78121188,\n",
       "       13.3082534 , 11.90098324, 10.11728065, 11.64445657, 15.54882654,\n",
       "        3.6807042 ,  8.90411166,  6.26782731, 14.10433605,  5.21247411,\n",
       "       13.43496423,  5.55955802,  5.86474071, 16.06154692, 14.15801544,\n",
       "        6.57628207,  3.25088385,  6.39841739, 12.45388126, 10.0038611 ,\n",
       "        6.39687622, 12.24734478, 15.54810305,  5.65225549,  9.79300111,\n",
       "        6.93338288, 14.43752481, 10.55406484,  7.52405767,  3.58194605,\n",
       "       12.85590069,  8.97758254, 10.63779006,  9.37570662, 11.69950673,\n",
       "        3.23130745,  6.86255126, 11.42607167, 17.26341117, 11.35301173,\n",
       "        9.80229665,  7.56132711,  7.44029446,  9.22267756,  6.95983735,\n",
       "       10.58372027, 10.13698605, 17.98263925,  9.73149179, 14.48389554,\n",
       "        8.43279917, 13.88208275, 19.77929234,  7.86458276,  5.55829519,\n",
       "       14.36414957, 10.38209918,  9.1338585 , 11.93263749, 11.32202396,\n",
       "       15.08462264, 11.83647683,  7.92329427,  5.7924497 ,  3.34935927,\n",
       "        5.90983389, 14.5639165 ,  4.48120849, 10.38913942, 15.03664783,\n",
       "       12.49993794, 16.23044446, 13.09144426, 16.37296287,  7.89058158,\n",
       "        6.88431102, 17.91253884, 11.53530509, 10.52192116,  7.91727356,\n",
       "       16.51077682, 12.08732918, 12.14147006,  7.6020878 , 10.49614375,\n",
       "        8.46708014,  9.75990287, 11.43032096,  8.1302547 ,  6.81302931,\n",
       "       13.27159416,  6.12057732, 15.6800061 , 16.21789351,  4.62124932,\n",
       "       16.52935031,  6.87765967, 15.34478939,  7.84634362, 13.17029904,\n",
       "        5.98410595, 12.66395776, 10.45733079, 16.42344328, 13.1355688 ,\n",
       "        6.59737467, 11.40556646,  7.4699806 , 10.8804307 , 16.25850412,\n",
       "       16.39169161, 10.818914  ,  6.941679  , 10.47591479, 18.43003373,\n",
       "        9.65487996,  4.39561141,  4.67542961,  5.4369073 , 14.46114092,\n",
       "        8.81521748,  7.21119043, 11.56456236, 13.99736855,  9.56280247,\n",
       "        6.97445511, 10.99917307, 13.3985222 ,  3.58634775,  4.58658799,\n",
       "       18.06538636, 11.86480111, 11.58243093,  4.61206016,  6.23559426,\n",
       "        9.10072644, 15.1100923 , 10.50273817,  3.69746541, 16.24665864,\n",
       "       16.42852834, 13.60054732,  5.76064786,  7.55981276,  9.05515763,\n",
       "       10.62334125, 17.24914823,  4.74850872,  7.27857358, 10.04333518,\n",
       "        7.83162428,  8.05987732,  4.18509062, 10.22941126,  8.76215157,\n",
       "       10.74481565, 13.70887216,  8.98076441,  9.54386514, 11.09430854,\n",
       "        8.24570668, 10.81752865,  3.10230448,  6.61548741, 12.05361215,\n",
       "       10.81558711, 13.27626934,  4.74101311,  7.90211328,  9.69943072,\n",
       "        9.63102313,  9.13244486, 15.62960214,  8.17915172,  8.73123946,\n",
       "       12.01826478, 11.87063432, 10.52555363, 16.57595493, 12.23729459,\n",
       "        9.07102846,  6.18309656, 14.84532566,  7.53093123, 11.53539842,\n",
       "        7.91227607, 18.33471483, 12.87223541,  3.03273976, 11.12674847,\n",
       "        4.52414744,  7.75760829, 13.16988016,  4.86156927, 11.27540747,\n",
       "        9.67607178, 12.94668626,  6.12037755, 12.40881623,  8.53347259,\n",
       "       14.02561368, 10.1206369 , 12.54709883, 15.25044643, 14.27020928,\n",
       "        9.8161923 , 12.72475376,  9.92709515, 11.60863272, 16.34417817,\n",
       "        6.52136321,  5.22805942, 11.8077888 ,  7.67495639, 14.7770537 ,\n",
       "       13.29222741, 12.38186852,  9.82925211,  8.06370034,  6.41223826,\n",
       "        7.71675151,  9.77594438,  6.11315366, 13.93545849, 12.4096006 ,\n",
       "        4.71232479, -0.78058873, 14.25104724,  5.08917292, -1.53287228,\n",
       "        3.33723346, 10.73034351, 15.27755216, 13.59677963, 15.76300091,\n",
       "       17.00056871, 17.35760317,  6.18183668,  9.21808666,  7.51525037,\n",
       "       10.21542769,  8.60734374, 11.04778921, 17.26088302,  7.19215901,\n",
       "       12.94268841,  6.14984383,  4.874315  , 14.02223008,  9.45705481,\n",
       "       10.2828813 , 15.74926413,  4.72545295, 10.3054683 , 15.82261148,\n",
       "        5.9163241 , 11.03700623, 13.69260416, 13.69940116, 12.68852795,\n",
       "       13.88906018, 11.9374898 , 13.14165882, 11.54763688,  6.44383106,\n",
       "       10.4705495 ,  9.58283572, 14.53132093, 12.04785366, 12.08391062,\n",
       "       10.78463832, 12.65636714,  7.88589468, 11.14969436,  7.34206911,\n",
       "        8.66631978,  5.63189309, 18.85999629, 12.45722887,  6.2828728 ,\n",
       "        8.58535627, 11.40569293,  8.29408361, 12.99220476, 11.80490897,\n",
       "       14.59279058, -1.15163642, 13.04278309, 10.98375302, 14.02847019,\n",
       "        7.82293699,  7.14089985,  5.55882878, 11.91411233, 10.69152345,\n",
       "        3.31120096,  7.80813166,  9.94147277,  5.31283487,  8.57839619,\n",
       "        9.62242632,  7.77646001,  3.59328977, 14.57493784, 11.01335369,\n",
       "       11.39937747,  7.74970165, 10.72517059,  7.3447398 ,  9.54958909,\n",
       "       10.5744839 , 12.34549407,  7.71399577,  6.98366737, 14.97704462,\n",
       "        4.54785626, 10.8042483 ,  9.60837203, 12.74177844,  8.32908653,\n",
       "        5.95174706, 10.49514053,  4.67517585,  5.8538277 ,  9.92064329,\n",
       "       10.48038376,  4.2434708 , 15.01315236,  9.85270357, 14.90761613,\n",
       "       14.38853702, 10.23773113,  8.42200731,  4.42779771, 13.97208739,\n",
       "       16.12009477, 10.67821997, 10.25733607,  6.46235268,  6.02147836,\n",
       "        9.60313811, 14.83841168,  8.95258475, 13.502859  , 11.61321553,\n",
       "        9.60984872,  6.75314459,  8.58119534,  5.3194795 , 13.42251584,\n",
       "       12.04669975,  6.22640857,  7.39765603,  4.88576491, 10.67994377,\n",
       "       12.45139966,  6.55937998,  8.35950906, 11.58061777,  3.56759293,\n",
       "       11.02271191, 16.29412995, 16.52663139,  9.59085085,  9.92881828,\n",
       "       13.07846118, 12.77579223, 15.94495109, 11.16441737, 11.52862487,\n",
       "       11.51289185, 16.88497245,  6.5634868 , 15.34918592, 11.3302417 ,\n",
       "       11.56220995,  7.18217327, 10.30209799,  6.96259017,  0.29818845,\n",
       "       11.40952046,  5.20924696, 10.68150856,  5.35373031,  9.03624827,\n",
       "        8.89551673,  3.6981679 , 10.51579424,  8.12520232,  1.10592172,\n",
       "       17.59429425, 12.39281931, 11.88359344, 10.60827384, 13.77804502,\n",
       "        8.56310974, 13.31590208, 14.19944767,  8.52306785, 10.66516533,\n",
       "       11.08221135,  4.70122675, 11.88672431, 10.22114997, 15.2760693 ,\n",
       "       11.11652458,  7.03324634, 10.95093024,  8.40782083,  1.20067829,\n",
       "        9.54801506,  5.3263554 , 15.30616432, 11.56412795, 13.73184105,\n",
       "       11.68567231,  9.49651322, 12.98682111,  4.26910714, 13.37585581,\n",
       "        9.74538814,  2.50180264,  9.61182821, 12.59184034,  8.37956561,\n",
       "       15.63268716, 15.28424398,  7.8888637 ,  7.27074453,  9.3856793 ,\n",
       "        8.40312338, 13.07434862, 14.54047869, 12.83693389, 12.95407944,\n",
       "       10.0629904 ,  9.77179405,  7.57890561, 19.44144037, 13.87801126,\n",
       "       12.61443474,  7.69268179,  4.32846125,  7.30759102,  8.57352231,\n",
       "        8.84207744, 12.76817792,  8.74773576, 12.76552177, 12.19803032,\n",
       "       12.95430882,  9.82391349, 13.32024637, 10.85728275, 11.01963335,\n",
       "        9.62201415,  9.77036113, 11.14860622, 12.92195328,  7.47564843,\n",
       "        9.0893552 , 10.47197933, 14.64222842, 10.31052125, 12.78295584,\n",
       "       13.88597074, 10.38845211, 16.42754089,  6.46757753,  4.95023598,\n",
       "        5.78364525,  6.99656403,  7.947216  ,  9.1445627 , 11.64408044,\n",
       "        8.36121698,  8.08573323, 12.49280236,  9.50877472, 11.07351443,\n",
       "        8.52427068,  5.1050362 ,  9.95173219,  9.69080839, 11.6148317 ,\n",
       "       10.15663371,  6.90433846, 15.95291544,  5.26998969,  2.71206342,\n",
       "        7.49875185,  7.95204788, 12.01002321,  7.76113061, 10.02257833,\n",
       "       10.95199508, 12.72503378,  3.59455739, 10.9434626 ,  5.1410498 ,\n",
       "       14.36557037,  6.96871124,  7.26033528, 12.01477939,  9.8640416 ,\n",
       "        9.58854955, 12.74496892,  8.02277045,  7.56141435, 13.98589717,\n",
       "        7.80789414, 10.71101329,  5.14461394,  9.89168911,  8.72822957,\n",
       "       11.49987526, 18.77399231,  2.39584288,  6.13764592,  8.68856026,\n",
       "       10.53870712,  4.22949771,  9.80228657,  6.70486639, 10.25932722,\n",
       "        6.2698285 , 21.0192114 , 10.82904442, 12.79277451,  0.78036028,\n",
       "        6.78204249,  9.33018924, 16.72391622,  6.68588403, 11.47753991,\n",
       "        6.42351802,  9.47875778,  2.44450833,  2.42281402,  6.94346615,\n",
       "       13.29927945, 13.33841538,  9.22411146,  4.91589114, 14.43685523,\n",
       "        8.58526241,  6.35932072,  8.43649479,  8.96226384, 16.78241692,\n",
       "        9.90106175,  7.88306938,  8.19531057,  3.78990383, 14.91863553,\n",
       "        6.15998244, 10.45519665,  6.06973097,  6.84165171,  1.32801281,\n",
       "       10.29407018, 18.78089411, 17.15077094, 11.63706402, 15.62709116,\n",
       "        6.90913294,  5.46165881, 14.61118952,  7.34814238, 18.48643855,\n",
       "       15.57367618,  5.46509748,  8.56104826,  8.58378809, 13.05279054,\n",
       "        8.48168983,  9.87802441,  3.96531676, 16.44805233, 13.52375413,\n",
       "       10.29954277,  3.62624009, 10.64612208, 21.933076  , 11.64226521,\n",
       "       14.94901525,  1.40918681,  8.78594604,  9.06768927, 14.32597395,\n",
       "        6.07022676, 13.38540429, 14.3417421 , 10.36192997,  9.29673503,\n",
       "       11.78887579,  5.86686247,  3.5360897 ,  3.11289517, 10.55644687,\n",
       "        8.74164635,  9.32523449,  7.61623916,  9.43009239, 17.28167999,\n",
       "        8.57528172,  6.16036824,  4.89933691,  5.94675522, 11.99952022,\n",
       "        8.87375976,  8.18392815,  8.89535237,  3.98261281,  6.12070013,\n",
       "        8.09089313,  8.04039283, 10.69654902, 13.23363322,  7.00520822])"
      ]
     },
     "execution_count": 83,
     "metadata": {},
     "output_type": "execute_result"
    }
   ],
   "source": [
    "a=np.random.normal(loc=10,scale=4,size=1000)\n",
    "a"
   ]
  },
  {
   "cell_type": "code",
   "execution_count": 84,
   "id": "cd57b60c",
   "metadata": {},
   "outputs": [
    {
     "name": "stdout",
     "output_type": "stream",
     "text": [
      "5.69883963878505\n",
      "10.150139469636924 10.03295675765553\n"
     ]
    }
   ],
   "source": [
    "import statistics\n",
    "print(statistics.mode(a))\n",
    "print(np.mean(a),np.median(a))"
   ]
  },
  {
   "cell_type": "code",
   "execution_count": 85,
   "id": "f68b5660",
   "metadata": {},
   "outputs": [
    {
     "data": {
      "text/plain": [
       "array([[1., 0., 0.],\n",
       "       [0., 1., 0.],\n",
       "       [0., 0., 1.]])"
      ]
     },
     "execution_count": 85,
     "metadata": {},
     "output_type": "execute_result"
    }
   ],
   "source": [
    "#Identity matrix\n",
    "np.eye(3)"
   ]
  },
  {
   "cell_type": "code",
   "execution_count": 87,
   "id": "3f85010e",
   "metadata": {},
   "outputs": [
    {
     "data": {
      "text/plain": [
       "array([[0., 1., 0.],\n",
       "       [0., 0., 1.],\n",
       "       [0., 0., 0.]])"
      ]
     },
     "execution_count": 87,
     "metadata": {},
     "output_type": "execute_result"
    }
   ],
   "source": [
    "#Identity matrix\n",
    "np.eye(3,k=1)"
   ]
  },
  {
   "cell_type": "code",
   "execution_count": 88,
   "id": "03478125",
   "metadata": {},
   "outputs": [
    {
     "data": {
      "text/plain": [
       "array([[0., 0., 0.],\n",
       "       [1., 0., 0.],\n",
       "       [0., 1., 0.]])"
      ]
     },
     "execution_count": 88,
     "metadata": {},
     "output_type": "execute_result"
    }
   ],
   "source": [
    "np.eye(3,k=-1)"
   ]
  },
  {
   "cell_type": "code",
   "execution_count": 89,
   "id": "6a8b5023",
   "metadata": {},
   "outputs": [
    {
     "data": {
      "text/plain": [
       "array([[ 1,  2,  3],\n",
       "       [ 4,  5,  6],\n",
       "       [10, 20, 30]])"
      ]
     },
     "execution_count": 89,
     "metadata": {},
     "output_type": "execute_result"
    }
   ],
   "source": [
    "a=np.array([[1,2,3],[4,5,6],[10,20,30]])\n",
    "a"
   ]
  },
  {
   "cell_type": "code",
   "execution_count": 90,
   "id": "64e04e5f",
   "metadata": {},
   "outputs": [
    {
     "name": "stdout",
     "output_type": "stream",
     "text": [
      "diagonal elements are : [2 6]\n"
     ]
    }
   ],
   "source": [
    "print(\"diagonal elements are :\",np.diag(a,k=1))"
   ]
  },
  {
   "cell_type": "code",
   "execution_count": 91,
   "id": "ab12235b",
   "metadata": {},
   "outputs": [
    {
     "name": "stdout",
     "output_type": "stream",
     "text": [
      "diagonal elements are : [ 1  5 30]\n"
     ]
    }
   ],
   "source": [
    "print(\"diagonal elements are :\",np.diag(a,k=0))"
   ]
  },
  {
   "cell_type": "code",
   "execution_count": 92,
   "id": "d775e665",
   "metadata": {},
   "outputs": [
    {
     "name": "stdout",
     "output_type": "stream",
     "text": [
      "diagonal elements are : [ 4 20]\n"
     ]
    }
   ],
   "source": [
    "print(\"diagonal elements are :\",np.diag(a,k=-1))"
   ]
  },
  {
   "cell_type": "markdown",
   "id": "0b14765a",
   "metadata": {},
   "source": [
    "## Diagflat : for creating Diagonal array directly based on the Value of k"
   ]
  },
  {
   "cell_type": "code",
   "execution_count": 93,
   "id": "12f0b20a",
   "metadata": {},
   "outputs": [
    {
     "data": {
      "text/plain": [
       "array([[1, 0, 0, 0, 0],\n",
       "       [0, 2, 0, 0, 0],\n",
       "       [0, 0, 3, 0, 0],\n",
       "       [0, 0, 0, 4, 0],\n",
       "       [0, 0, 0, 0, 5]])"
      ]
     },
     "execution_count": 93,
     "metadata": {},
     "output_type": "execute_result"
    }
   ],
   "source": [
    "a1=np.diagflat([1,2,3,4,5],k=0)\n",
    "a1"
   ]
  },
  {
   "cell_type": "code",
   "execution_count": 94,
   "id": "e37bbeed",
   "metadata": {},
   "outputs": [
    {
     "data": {
      "text/plain": [
       "array([[0, 1, 0, 0, 0, 0],\n",
       "       [0, 0, 2, 0, 0, 0],\n",
       "       [0, 0, 0, 3, 0, 0],\n",
       "       [0, 0, 0, 0, 4, 0],\n",
       "       [0, 0, 0, 0, 0, 5],\n",
       "       [0, 0, 0, 0, 0, 0]])"
      ]
     },
     "execution_count": 94,
     "metadata": {},
     "output_type": "execute_result"
    }
   ],
   "source": [
    "## if k is 1 or -1\n",
    "a1=np.diagflat([1,2,3,4,5],k=1)\n",
    "a1"
   ]
  },
  {
   "cell_type": "code",
   "execution_count": 95,
   "id": "be68db76",
   "metadata": {},
   "outputs": [
    {
     "data": {
      "text/plain": [
       "array([[0, 0, 0, 0, 0, 0],\n",
       "       [1, 0, 0, 0, 0, 0],\n",
       "       [0, 2, 0, 0, 0, 0],\n",
       "       [0, 0, 3, 0, 0, 0],\n",
       "       [0, 0, 0, 4, 0, 0],\n",
       "       [0, 0, 0, 0, 5, 0]])"
      ]
     },
     "execution_count": 95,
     "metadata": {},
     "output_type": "execute_result"
    }
   ],
   "source": [
    "a1=np.diagflat([1,2,3,4,5],k=-1)\n",
    "a1"
   ]
  },
  {
   "cell_type": "markdown",
   "id": "2af79660",
   "metadata": {},
   "source": [
    "## From Function"
   ]
  },
  {
   "cell_type": "code",
   "execution_count": 96,
   "id": "2b6917a4",
   "metadata": {},
   "outputs": [
    {
     "name": "stdout",
     "output_type": "stream",
     "text": [
      "[[0. 0. 0. 0.]\n",
      " [0. 1. 2. 3.]\n",
      " [0. 2. 4. 6.]\n",
      " [0. 3. 6. 9.]]\n"
     ]
    }
   ],
   "source": [
    "print(np.fromfunction(lambda i,j:i*j,(4,4)))"
   ]
  },
  {
   "cell_type": "code",
   "execution_count": 98,
   "id": "fedef94b",
   "metadata": {},
   "outputs": [
    {
     "name": "stdout",
     "output_type": "stream",
     "text": [
      "[[0. 1. 2. 3.]\n",
      " [1. 2. 3. 4.]\n",
      " [2. 3. 4. 5.]\n",
      " [3. 4. 5. 6.]]\n",
      "[[ 0. -1. -2. -3.]\n",
      " [ 1.  0. -1. -2.]\n",
      " [ 2.  1.  0. -1.]\n",
      " [ 3.  2.  1.  0.]]\n",
      "[[ 1.  0.  0.  0.]\n",
      " [ 1.  1.  1.  1.]\n",
      " [ 1.  2.  4.  8.]\n",
      " [ 1.  3.  9. 27.]]\n"
     ]
    }
   ],
   "source": [
    "print(np.fromfunction(lambda i,j:i+j,(4,4)))\n",
    "print()\n",
    "print(np.fromfunction(lambda i,j:i-j,(4,4)))\n",
    "\n",
    "print(np.fromfunction(lambda i,j:i**j,(4,4)))\n"
   ]
  },
  {
   "cell_type": "code",
   "execution_count": null,
   "id": "cfeefb6e",
   "metadata": {},
   "outputs": [],
   "source": []
  }
 ],
 "metadata": {
  "kernelspec": {
   "display_name": "Python 3 (ipykernel)",
   "language": "python",
   "name": "python3"
  },
  "language_info": {
   "codemirror_mode": {
    "name": "ipython",
    "version": 3
   },
   "file_extension": ".py",
   "mimetype": "text/x-python",
   "name": "python",
   "nbconvert_exporter": "python",
   "pygments_lexer": "ipython3",
   "version": "3.9.12"
  }
 },
 "nbformat": 4,
 "nbformat_minor": 5
}
